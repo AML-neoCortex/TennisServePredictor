{
  "cells": [
    {
      "cell_type": "code",
      "execution_count": 28,
      "metadata": {
        "id": "Zt8DqULPj8NB"
      },
      "outputs": [],
      "source": [
        "!rm -rf demo_dataset.zip"
      ]
    },
    {
      "cell_type": "code",
      "execution_count": null,
      "metadata": {
        "id": "IFuvZ2R_e1qJ"
      },
      "outputs": [],
      "source": [
        "!unzip TENNIS_DATASET.zip -d /content/demo_dataset.zip"
      ]
    },
    {
      "cell_type": "code",
      "execution_count": 1,
      "metadata": {
        "colab": {
          "base_uri": "https://localhost:8080/"
        },
        "id": "Fb9wt4VSSy2-",
        "outputId": "628ed017-1ba8-4e10-95dc-b76835aedf2c"
      },
      "outputs": [
        {
          "name": "stdout",
          "output_type": "stream",
          "text": [
            "98\n",
            "98\n",
            "['../data/SERVE_20_03_2023_13-38-21.csv', '../data/SERVE_20_03_2023_13-41-50.csv', '../data/SERVE_20_03_2023_13-42-20.csv', '../data/SERVE_20_03_2023_13-42-47.csv', '../data/SERVE_20_03_2023_13-43-27.csv', '../data/SERVE_20_03_2023_13-43-51.csv', '../data/SERVE_20_03_2023_13-44-43.csv', '../data/SERVE_20_03_2023_13-45-12.csv', '../data/SERVE_20_03_2023_13-45-37.csv', '../data/SERVE_20_03_2023_13-45-58.csv', '../data/SERVE_20_03_2023_13-46-30.csv', '../data/SERVE_20_03_2023_13-46-59.csv', '../data/SERVE_20_03_2023_13-47-38.csv', '../data/SERVE_20_03_2023_13-48-06.csv', '../data/SERVE_20_03_2023_13-48-29.csv', '../data/SERVE_20_03_2023_13-49-16.csv', '../data/SERVE_20_03_2023_13-49-45.csv', '../data/SERVE_20_03_2023_13-52-33.csv', '../data/SERVE_20_03_2023_13-54-27.csv', '../data/SERVE_20_03_2023_13-54-53.csv', '../data/SERVE_20_03_2023_13-55-28.csv', '../data/SERVE_20_03_2023_13-57-24.csv', '../data/SERVE_20_03_2023_13-58-45.csv', '../data/SERVE_20_03_2023_14-00-45.csv', '../data/SERVE_20_03_2023_14-01-06.csv', '../data/SERVE_20_03_2023_14-01-33.csv', '../data/SERVE_20_03_2023_14-02-09.csv', '../data/SERVE_20_03_2023_14-02-32.csv', '../data/SERVE_20_03_2023_14-03-35.csv', '../data/SERVE_20_03_2023_14-04-00.csv', '../data/SERVE_20_03_2023_14-12-04.csv', '../data/SERVE_20_03_2023_14-13-15.csv', '../data/SERVE_20_03_2023_14-13-54.csv', '../data/SERVE_20_03_2023_14-14-52.csv', '../data/SERVE_20_03_2023_14-15-22.csv', '../data/SERVE_20_03_2023_14-16-09.csv', '../data/SERVE_20_03_2023_14-16-36.csv', '../data/SERVE_20_03_2023_14-17-01.csv', '../data/SERVE_20_03_2023_14-17-28.csv', '../data/SERVE_20_03_2023_14-17-48.csv', '../data/SERVE_20_03_2023_14-18-09.csv', '../data/SERVE_20_03_2023_14-18-39.csv', '../data/SERVE_20_03_2023_14-19-12.csv', '../data/SERVE_20_03_2023_14-19-42.csv', '../data/SERVE_20_03_2023_14-20-19.csv', '../data/SERVE_20_03_2023_14-20-56.csv', '../data/SERVE_20_03_2023_14-24-22.csv', '../data/SERVE_20_03_2023_14-24-42.csv', '../data/SERVE_20_03_2023_14-25-04.csv', '../data/SERVE_20_03_2023_14-27-37.csv', '../data/SERVE_20_03_2023_14-27-58.csv', '../data/SERVE_20_03_2023_14-28-22.csv', '../data/SERVE_20_03_2023_14-28-43.csv', '../data/SERVE_20_03_2023_14-29-08.csv', '../data/SERVE_20_03_2023_14-29-49.csv', '../data/SERVE_20_03_2023_14-30-16.csv', '../data/SERVE_20_03_2023_14-31-00.csv', '../data/SERVE_20_03_2023_14-31-23.csv', '../data/SERVE_20_03_2023_14-31-42.csv', '../data/SERVE_20_03_2023_14-32-01.csv', '../data/SERVE_20_03_2023_14-32-22.csv', '../data/SERVE_20_03_2023_14-32-55.csv', '../data/SERVE_20_03_2023_14-33-35.csv', '../data/SERVE_20_03_2023_14-34-03.csv', '../data/SERVE_20_03_2023_14-34-25.csv', '../data/SERVE_20_03_2023_14-35-45.csv', '../data/SERVE_20_03_2023_14-36-12.csv', '../data/SERVE_20_03_2023_14-36-44.csv', '../data/SERVE_20_03_2023_14-37-07.csv', '../data/SERVE_20_03_2023_14-37-56.csv', '../data/SERVE_20_03_2023_14-38-23.csv', '../data/SERVE_20_03_2023_14-38-50.csv', '../data/SERVE_20_03_2023_14-39-21.csv', '../data/SERVE_20_03_2023_14-39-45.csv', '../data/SERVE_20_03_2023_14-40-13.csv', '../data/SERVE_20_03_2023_14-40-36.csv', '../data/SERVE_20_03_2023_14-41-02.csv', '../data/SERVE_20_03_2023_14-41-22.csv', '../data/SERVE_20_03_2023_14-41-58.csv', '../data/SERVE_20_03_2023_14-42-21.csv', '../data/SERVE_20_03_2023_14-42-46.csv', '../data/SERVE_20_03_2023_14-43-05.csv', '../data/SERVE_20_03_2023_14-43-31.csv', '../data/SERVE_20_03_2023_14-47-33.csv', '../data/SERVE_20_03_2023_14-47-58.csv', '../data/SERVE_20_03_2023_14-48-23.csv', '../data/SERVE_20_03_2023_14-48-44.csv', '../data/SERVE_20_03_2023_14-49-09.csv', '../data/SERVE_20_03_2023_14-51-14.csv', '../data/SERVE_20_03_2023_14-51-38.csv', '../data/SERVE_20_03_2023_14-52-08.csv', '../data/SERVE_20_03_2023_14-52-42.csv', '../data/SERVE_20_03_2023_14-53-40.csv', '../data/SERVE_20_03_2023_14-54-01.csv', '../data/SERVE_20_03_2023_14-54-22.csv', '../data/SERVE_20_03_2023_14-54-43.csv', '../data/SERVE_20_03_2023_14-55-11.csv', '../data/SERVE_20_03_2023_14-55-32.csv']\n"
          ]
        }
      ],
      "source": [
        "import glob\n",
        "import pandas as pd\n",
        "import numpy as np\n",
        "\n",
        "# Get CSV files list from a folder\n",
        "# path = '/content/demo_dataset.zip/'\n",
        "path = '../data/'\n",
        "# Pattern match IMU data\n",
        "imu_files = glob.glob(path + \"SERVE_*-[0-9][0-9].csv\")\n",
        "# Pattern match camera data\n",
        "cam_files = glob.glob(path + \"SERVE_*_webcam.csv\")\n",
        "\n",
        "print(len(imu_files))\n",
        "print(len(cam_files))\n",
        "print(sorted(imu_files))"
      ]
    },
    {
      "cell_type": "code",
      "execution_count": 2,
      "metadata": {
        "id": "_V-e7XzPdmgp"
      },
      "outputs": [],
      "source": [
        "labels = ['IMU','index','Xacc', 'Yacc', 'Zacc', 'Xori', 'Yori', 'Zori', 'Xmag', 'Ymag' , 'Zmag', 'Xgyro', 'Ygyro', 'Zgyro', 'Xrot','Yrot', 'Zrot' , 'Xlin' ,'Ylin', 'Zlin', 'Xgrav', 'Ygrav', 'Zgrav']\n",
        "\n",
        "# Read each CSV file into DataFrame\n",
        "# This creates a list of dataframes\n",
        "df_imu = [pd.read_csv(file,skiprows=4,header=None,names=labels) for file in imu_files]\n",
        "\n",
        "df_cam = [pd.read_csv(file,names=['index','x','y']) for file in cam_files]\n",
        "\n",
        "labels = [pd.read_csv(file,skiprows=2,nrows=1,header=None).values[0][0] for file in imu_files]\n",
        "labels = np.stack(labels, axis=0)\n",
        "\n",
        "# Concatenate all DataFrames\n",
        "df_full = []\n",
        "for i in range(len(df_imu)):\n",
        "    df_full.append(pd.merge(df_imu[i], df_cam[i], on='index'))"
      ]
    },
    {
      "cell_type": "code",
      "execution_count": 111,
      "metadata": {
        "id": "aIShJ9lNywUD"
      },
      "outputs": [],
      "source": [
        "import pickle\n",
        "\n",
        "\n",
        "with open('labels.pickle', 'wb') as handle:\n",
        "    pickle.dump(labels, handle, protocol=pickle.HIGHEST_PROTOCOL)\n",
        "\n",
        "\n",
        "with open('labels.pickle', 'rb') as handle:\n",
        "    labels1 = pickle.load(handle)"
      ]
    },
    {
      "cell_type": "code",
      "execution_count": 3,
      "metadata": {
        "colab": {
          "base_uri": "https://localhost:8080/"
        },
        "id": "ez-sp-sSdmgp",
        "outputId": "8805ac23-e4b1-4907-f93f-6cae455ab315"
      },
      "outputs": [
        {
          "name": "stdout",
          "output_type": "stream",
          "text": [
            "(98,)\n"
          ]
        }
      ],
      "source": [
        "print(labels.shape)"
      ]
    },
    {
      "cell_type": "code",
      "execution_count": 3,
      "metadata": {
        "colab": {
          "base_uri": "https://localhost:8080/",
          "height": 236
        },
        "id": "Pom3yzL6dmgq",
        "outputId": "7cde5d37-00d3-4d94-c5b0-c3d05a550098"
      },
      "outputs": [
        {
          "data": {
            "text/html": [
              "<div>\n",
              "<style scoped>\n",
              "    .dataframe tbody tr th:only-of-type {\n",
              "        vertical-align: middle;\n",
              "    }\n",
              "\n",
              "    .dataframe tbody tr th {\n",
              "        vertical-align: top;\n",
              "    }\n",
              "\n",
              "    .dataframe thead th {\n",
              "        text-align: right;\n",
              "    }\n",
              "</style>\n",
              "<table border=\"1\" class=\"dataframe\">\n",
              "  <thead>\n",
              "    <tr style=\"text-align: right;\">\n",
              "      <th></th>\n",
              "      <th>IMU</th>\n",
              "      <th>index</th>\n",
              "      <th>Xacc</th>\n",
              "      <th>Yacc</th>\n",
              "      <th>Zacc</th>\n",
              "      <th>Xori</th>\n",
              "      <th>Yori</th>\n",
              "      <th>Zori</th>\n",
              "      <th>Xmag</th>\n",
              "      <th>Ymag</th>\n",
              "      <th>...</th>\n",
              "      <th>Yrot</th>\n",
              "      <th>Zrot</th>\n",
              "      <th>Xlin</th>\n",
              "      <th>Ylin</th>\n",
              "      <th>Zlin</th>\n",
              "      <th>Xgrav</th>\n",
              "      <th>Ygrav</th>\n",
              "      <th>Zgrav</th>\n",
              "      <th>x</th>\n",
              "      <th>y</th>\n",
              "    </tr>\n",
              "  </thead>\n",
              "  <tbody>\n",
              "    <tr>\n",
              "      <th>0</th>\n",
              "      <td>1</td>\n",
              "      <td>0</td>\n",
              "      <td>0</td>\n",
              "      <td>0</td>\n",
              "      <td>0</td>\n",
              "      <td>0</td>\n",
              "      <td>0</td>\n",
              "      <td>0</td>\n",
              "      <td>0</td>\n",
              "      <td>0</td>\n",
              "      <td>...</td>\n",
              "      <td>0</td>\n",
              "      <td>0</td>\n",
              "      <td>0</td>\n",
              "      <td>0</td>\n",
              "      <td>0</td>\n",
              "      <td>0</td>\n",
              "      <td>0</td>\n",
              "      <td>0</td>\n",
              "      <td>0</td>\n",
              "      <td>0</td>\n",
              "    </tr>\n",
              "    <tr>\n",
              "      <th>1</th>\n",
              "      <td>2</td>\n",
              "      <td>0</td>\n",
              "      <td>-4</td>\n",
              "      <td>-6</td>\n",
              "      <td>5</td>\n",
              "      <td>63</td>\n",
              "      <td>1</td>\n",
              "      <td>60</td>\n",
              "      <td>8</td>\n",
              "      <td>46</td>\n",
              "      <td>...</td>\n",
              "      <td>0</td>\n",
              "      <td>0</td>\n",
              "      <td>0</td>\n",
              "      <td>0</td>\n",
              "      <td>0</td>\n",
              "      <td>-4</td>\n",
              "      <td>-7</td>\n",
              "      <td>5</td>\n",
              "      <td>0</td>\n",
              "      <td>0</td>\n",
              "    </tr>\n",
              "    <tr>\n",
              "      <th>2</th>\n",
              "      <td>1</td>\n",
              "      <td>1</td>\n",
              "      <td>21</td>\n",
              "      <td>-20</td>\n",
              "      <td>77</td>\n",
              "      <td>7</td>\n",
              "      <td>8</td>\n",
              "      <td>-45</td>\n",
              "      <td>0</td>\n",
              "      <td>0</td>\n",
              "      <td>...</td>\n",
              "      <td>0</td>\n",
              "      <td>0</td>\n",
              "      <td>-5</td>\n",
              "      <td>0</td>\n",
              "      <td>8</td>\n",
              "      <td>0</td>\n",
              "      <td>0</td>\n",
              "      <td>0</td>\n",
              "      <td>0</td>\n",
              "      <td>0</td>\n",
              "    </tr>\n",
              "    <tr>\n",
              "      <th>3</th>\n",
              "      <td>2</td>\n",
              "      <td>1</td>\n",
              "      <td>-4</td>\n",
              "      <td>-6</td>\n",
              "      <td>5</td>\n",
              "      <td>63</td>\n",
              "      <td>1</td>\n",
              "      <td>60</td>\n",
              "      <td>8</td>\n",
              "      <td>46</td>\n",
              "      <td>...</td>\n",
              "      <td>0</td>\n",
              "      <td>0</td>\n",
              "      <td>0</td>\n",
              "      <td>0</td>\n",
              "      <td>0</td>\n",
              "      <td>-4</td>\n",
              "      <td>-7</td>\n",
              "      <td>5</td>\n",
              "      <td>0</td>\n",
              "      <td>0</td>\n",
              "    </tr>\n",
              "    <tr>\n",
              "      <th>4</th>\n",
              "      <td>1</td>\n",
              "      <td>2</td>\n",
              "      <td>21</td>\n",
              "      <td>-20</td>\n",
              "      <td>77</td>\n",
              "      <td>7</td>\n",
              "      <td>8</td>\n",
              "      <td>-45</td>\n",
              "      <td>0</td>\n",
              "      <td>0</td>\n",
              "      <td>...</td>\n",
              "      <td>0</td>\n",
              "      <td>0</td>\n",
              "      <td>-5</td>\n",
              "      <td>0</td>\n",
              "      <td>8</td>\n",
              "      <td>0</td>\n",
              "      <td>0</td>\n",
              "      <td>0</td>\n",
              "      <td>0</td>\n",
              "      <td>0</td>\n",
              "    </tr>\n",
              "  </tbody>\n",
              "</table>\n",
              "<p>5 rows × 25 columns</p>\n",
              "</div>"
            ],
            "text/plain": [
              "   IMU  index  Xacc  Yacc  Zacc  Xori  Yori  Zori  Xmag  Ymag  ...  Yrot  \\\n",
              "0    1      0     0     0     0     0     0     0     0     0  ...     0   \n",
              "1    2      0    -4    -6     5    63     1    60     8    46  ...     0   \n",
              "2    1      1    21   -20    77     7     8   -45     0     0  ...     0   \n",
              "3    2      1    -4    -6     5    63     1    60     8    46  ...     0   \n",
              "4    1      2    21   -20    77     7     8   -45     0     0  ...     0   \n",
              "\n",
              "   Zrot  Xlin  Ylin  Zlin  Xgrav  Ygrav  Zgrav  x  y  \n",
              "0     0     0     0     0      0      0      0  0  0  \n",
              "1     0     0     0     0     -4     -7      5  0  0  \n",
              "2     0    -5     0     8      0      0      0  0  0  \n",
              "3     0     0     0     0     -4     -7      5  0  0  \n",
              "4     0    -5     0     8      0      0      0  0  0  \n",
              "\n",
              "[5 rows x 25 columns]"
            ]
          },
          "execution_count": 3,
          "metadata": {},
          "output_type": "execute_result"
        }
      ],
      "source": [
        "df_full[0].head()"
      ]
    },
    {
      "cell_type": "code",
      "execution_count": 17,
      "metadata": {
        "id": "BrhlsmNufYhY"
      },
      "outputs": [],
      "source": [
        "df = df_full[50]"
      ]
    },
    {
      "cell_type": "code",
      "execution_count": 5,
      "metadata": {
        "colab": {
          "base_uri": "https://localhost:8080/",
          "height": 236
        },
        "id": "z7Bvifd3ck7d",
        "outputId": "3e8e6ef8-db40-40f9-8f48-7d082f676dcc"
      },
      "outputs": [
        {
          "data": {
            "text/html": [
              "<div>\n",
              "<style scoped>\n",
              "    .dataframe tbody tr th:only-of-type {\n",
              "        vertical-align: middle;\n",
              "    }\n",
              "\n",
              "    .dataframe tbody tr th {\n",
              "        vertical-align: top;\n",
              "    }\n",
              "\n",
              "    .dataframe thead th {\n",
              "        text-align: right;\n",
              "    }\n",
              "</style>\n",
              "<table border=\"1\" class=\"dataframe\">\n",
              "  <thead>\n",
              "    <tr style=\"text-align: right;\">\n",
              "      <th></th>\n",
              "      <th>IMU</th>\n",
              "      <th>index</th>\n",
              "      <th>Xacc</th>\n",
              "      <th>Yacc</th>\n",
              "      <th>Zacc</th>\n",
              "      <th>Xori</th>\n",
              "      <th>Yori</th>\n",
              "      <th>Zori</th>\n",
              "      <th>Xmag</th>\n",
              "      <th>Ymag</th>\n",
              "      <th>...</th>\n",
              "      <th>Yrot</th>\n",
              "      <th>Zrot</th>\n",
              "      <th>Xlin</th>\n",
              "      <th>Ylin</th>\n",
              "      <th>Zlin</th>\n",
              "      <th>Xgrav</th>\n",
              "      <th>Ygrav</th>\n",
              "      <th>Zgrav</th>\n",
              "      <th>x</th>\n",
              "      <th>y</th>\n",
              "    </tr>\n",
              "  </thead>\n",
              "  <tbody>\n",
              "    <tr>\n",
              "      <th>0</th>\n",
              "      <td>1</td>\n",
              "      <td>0</td>\n",
              "      <td>0</td>\n",
              "      <td>0</td>\n",
              "      <td>0</td>\n",
              "      <td>0</td>\n",
              "      <td>0</td>\n",
              "      <td>0</td>\n",
              "      <td>0</td>\n",
              "      <td>0</td>\n",
              "      <td>...</td>\n",
              "      <td>0</td>\n",
              "      <td>0</td>\n",
              "      <td>0</td>\n",
              "      <td>0</td>\n",
              "      <td>0</td>\n",
              "      <td>0</td>\n",
              "      <td>0</td>\n",
              "      <td>0</td>\n",
              "      <td>0</td>\n",
              "      <td>0</td>\n",
              "    </tr>\n",
              "    <tr>\n",
              "      <th>1</th>\n",
              "      <td>2</td>\n",
              "      <td>0</td>\n",
              "      <td>-4</td>\n",
              "      <td>-6</td>\n",
              "      <td>5</td>\n",
              "      <td>63</td>\n",
              "      <td>1</td>\n",
              "      <td>60</td>\n",
              "      <td>8</td>\n",
              "      <td>46</td>\n",
              "      <td>...</td>\n",
              "      <td>0</td>\n",
              "      <td>0</td>\n",
              "      <td>0</td>\n",
              "      <td>0</td>\n",
              "      <td>0</td>\n",
              "      <td>-4</td>\n",
              "      <td>-7</td>\n",
              "      <td>5</td>\n",
              "      <td>0</td>\n",
              "      <td>0</td>\n",
              "    </tr>\n",
              "    <tr>\n",
              "      <th>2</th>\n",
              "      <td>1</td>\n",
              "      <td>1</td>\n",
              "      <td>21</td>\n",
              "      <td>-20</td>\n",
              "      <td>77</td>\n",
              "      <td>7</td>\n",
              "      <td>8</td>\n",
              "      <td>-45</td>\n",
              "      <td>0</td>\n",
              "      <td>0</td>\n",
              "      <td>...</td>\n",
              "      <td>0</td>\n",
              "      <td>0</td>\n",
              "      <td>-5</td>\n",
              "      <td>0</td>\n",
              "      <td>8</td>\n",
              "      <td>0</td>\n",
              "      <td>0</td>\n",
              "      <td>0</td>\n",
              "      <td>0</td>\n",
              "      <td>0</td>\n",
              "    </tr>\n",
              "    <tr>\n",
              "      <th>3</th>\n",
              "      <td>2</td>\n",
              "      <td>1</td>\n",
              "      <td>-4</td>\n",
              "      <td>-6</td>\n",
              "      <td>5</td>\n",
              "      <td>63</td>\n",
              "      <td>1</td>\n",
              "      <td>60</td>\n",
              "      <td>8</td>\n",
              "      <td>46</td>\n",
              "      <td>...</td>\n",
              "      <td>0</td>\n",
              "      <td>0</td>\n",
              "      <td>0</td>\n",
              "      <td>0</td>\n",
              "      <td>0</td>\n",
              "      <td>-4</td>\n",
              "      <td>-7</td>\n",
              "      <td>5</td>\n",
              "      <td>0</td>\n",
              "      <td>0</td>\n",
              "    </tr>\n",
              "    <tr>\n",
              "      <th>4</th>\n",
              "      <td>1</td>\n",
              "      <td>2</td>\n",
              "      <td>21</td>\n",
              "      <td>-20</td>\n",
              "      <td>77</td>\n",
              "      <td>7</td>\n",
              "      <td>8</td>\n",
              "      <td>-45</td>\n",
              "      <td>0</td>\n",
              "      <td>0</td>\n",
              "      <td>...</td>\n",
              "      <td>0</td>\n",
              "      <td>0</td>\n",
              "      <td>-5</td>\n",
              "      <td>0</td>\n",
              "      <td>8</td>\n",
              "      <td>0</td>\n",
              "      <td>0</td>\n",
              "      <td>0</td>\n",
              "      <td>0</td>\n",
              "      <td>0</td>\n",
              "    </tr>\n",
              "  </tbody>\n",
              "</table>\n",
              "<p>5 rows × 25 columns</p>\n",
              "</div>"
            ],
            "text/plain": [
              "   IMU  index  Xacc  Yacc  Zacc  Xori  Yori  Zori  Xmag  Ymag  ...  Yrot  \\\n",
              "0    1      0     0     0     0     0     0     0     0     0  ...     0   \n",
              "1    2      0    -4    -6     5    63     1    60     8    46  ...     0   \n",
              "2    1      1    21   -20    77     7     8   -45     0     0  ...     0   \n",
              "3    2      1    -4    -6     5    63     1    60     8    46  ...     0   \n",
              "4    1      2    21   -20    77     7     8   -45     0     0  ...     0   \n",
              "\n",
              "   Zrot  Xlin  Ylin  Zlin  Xgrav  Ygrav  Zgrav  x  y  \n",
              "0     0     0     0     0      0      0      0  0  0  \n",
              "1     0     0     0     0     -4     -7      5  0  0  \n",
              "2     0    -5     0     8      0      0      0  0  0  \n",
              "3     0     0     0     0     -4     -7      5  0  0  \n",
              "4     0    -5     0     8      0      0      0  0  0  \n",
              "\n",
              "[5 rows x 25 columns]"
            ]
          },
          "execution_count": 5,
          "metadata": {},
          "output_type": "execute_result"
        }
      ],
      "source": [
        "df.head()"
      ]
    },
    {
      "cell_type": "code",
      "execution_count": 6,
      "metadata": {
        "colab": {
          "base_uri": "https://localhost:8080/",
          "height": 424
        },
        "id": "NlLpeL9jp3mV",
        "outputId": "b185f0b5-bab2-4e35-eb49-293ec5aea2d9"
      },
      "outputs": [
        {
          "data": {
            "text/html": [
              "<div>\n",
              "<style scoped>\n",
              "    .dataframe tbody tr th:only-of-type {\n",
              "        vertical-align: middle;\n",
              "    }\n",
              "\n",
              "    .dataframe tbody tr th {\n",
              "        vertical-align: top;\n",
              "    }\n",
              "\n",
              "    .dataframe thead th {\n",
              "        text-align: right;\n",
              "    }\n",
              "</style>\n",
              "<table border=\"1\" class=\"dataframe\">\n",
              "  <thead>\n",
              "    <tr style=\"text-align: right;\">\n",
              "      <th></th>\n",
              "      <th>IMU</th>\n",
              "      <th>index</th>\n",
              "      <th>Xacc</th>\n",
              "      <th>Yacc</th>\n",
              "      <th>Zacc</th>\n",
              "      <th>Xori</th>\n",
              "      <th>Yori</th>\n",
              "      <th>Zori</th>\n",
              "      <th>Xmag</th>\n",
              "      <th>Ymag</th>\n",
              "      <th>...</th>\n",
              "      <th>Yrot</th>\n",
              "      <th>Zrot</th>\n",
              "      <th>Xlin</th>\n",
              "      <th>Ylin</th>\n",
              "      <th>Zlin</th>\n",
              "      <th>Xgrav</th>\n",
              "      <th>Ygrav</th>\n",
              "      <th>Zgrav</th>\n",
              "      <th>x</th>\n",
              "      <th>y</th>\n",
              "    </tr>\n",
              "  </thead>\n",
              "  <tbody>\n",
              "    <tr>\n",
              "      <th>0</th>\n",
              "      <td>1</td>\n",
              "      <td>0</td>\n",
              "      <td>0</td>\n",
              "      <td>0</td>\n",
              "      <td>0</td>\n",
              "      <td>0</td>\n",
              "      <td>0</td>\n",
              "      <td>0</td>\n",
              "      <td>0</td>\n",
              "      <td>0</td>\n",
              "      <td>...</td>\n",
              "      <td>0</td>\n",
              "      <td>0</td>\n",
              "      <td>0</td>\n",
              "      <td>0</td>\n",
              "      <td>0</td>\n",
              "      <td>0</td>\n",
              "      <td>0</td>\n",
              "      <td>0</td>\n",
              "      <td>0</td>\n",
              "      <td>0</td>\n",
              "    </tr>\n",
              "    <tr>\n",
              "      <th>1</th>\n",
              "      <td>2</td>\n",
              "      <td>0</td>\n",
              "      <td>-4</td>\n",
              "      <td>-6</td>\n",
              "      <td>5</td>\n",
              "      <td>63</td>\n",
              "      <td>1</td>\n",
              "      <td>60</td>\n",
              "      <td>8</td>\n",
              "      <td>46</td>\n",
              "      <td>...</td>\n",
              "      <td>0</td>\n",
              "      <td>0</td>\n",
              "      <td>0</td>\n",
              "      <td>0</td>\n",
              "      <td>0</td>\n",
              "      <td>-4</td>\n",
              "      <td>-7</td>\n",
              "      <td>5</td>\n",
              "      <td>0</td>\n",
              "      <td>0</td>\n",
              "    </tr>\n",
              "    <tr>\n",
              "      <th>2</th>\n",
              "      <td>1</td>\n",
              "      <td>1</td>\n",
              "      <td>21</td>\n",
              "      <td>-20</td>\n",
              "      <td>77</td>\n",
              "      <td>7</td>\n",
              "      <td>8</td>\n",
              "      <td>-45</td>\n",
              "      <td>0</td>\n",
              "      <td>0</td>\n",
              "      <td>...</td>\n",
              "      <td>0</td>\n",
              "      <td>0</td>\n",
              "      <td>-5</td>\n",
              "      <td>0</td>\n",
              "      <td>8</td>\n",
              "      <td>0</td>\n",
              "      <td>0</td>\n",
              "      <td>0</td>\n",
              "      <td>0</td>\n",
              "      <td>0</td>\n",
              "    </tr>\n",
              "    <tr>\n",
              "      <th>3</th>\n",
              "      <td>2</td>\n",
              "      <td>1</td>\n",
              "      <td>-4</td>\n",
              "      <td>-6</td>\n",
              "      <td>5</td>\n",
              "      <td>63</td>\n",
              "      <td>1</td>\n",
              "      <td>60</td>\n",
              "      <td>8</td>\n",
              "      <td>46</td>\n",
              "      <td>...</td>\n",
              "      <td>0</td>\n",
              "      <td>0</td>\n",
              "      <td>0</td>\n",
              "      <td>0</td>\n",
              "      <td>0</td>\n",
              "      <td>-4</td>\n",
              "      <td>-7</td>\n",
              "      <td>5</td>\n",
              "      <td>0</td>\n",
              "      <td>0</td>\n",
              "    </tr>\n",
              "    <tr>\n",
              "      <th>4</th>\n",
              "      <td>1</td>\n",
              "      <td>2</td>\n",
              "      <td>21</td>\n",
              "      <td>-20</td>\n",
              "      <td>77</td>\n",
              "      <td>7</td>\n",
              "      <td>8</td>\n",
              "      <td>-45</td>\n",
              "      <td>0</td>\n",
              "      <td>0</td>\n",
              "      <td>...</td>\n",
              "      <td>0</td>\n",
              "      <td>0</td>\n",
              "      <td>-5</td>\n",
              "      <td>0</td>\n",
              "      <td>8</td>\n",
              "      <td>0</td>\n",
              "      <td>0</td>\n",
              "      <td>0</td>\n",
              "      <td>0</td>\n",
              "      <td>0</td>\n",
              "    </tr>\n",
              "    <tr>\n",
              "      <th>...</th>\n",
              "      <td>...</td>\n",
              "      <td>...</td>\n",
              "      <td>...</td>\n",
              "      <td>...</td>\n",
              "      <td>...</td>\n",
              "      <td>...</td>\n",
              "      <td>...</td>\n",
              "      <td>...</td>\n",
              "      <td>...</td>\n",
              "      <td>...</td>\n",
              "      <td>...</td>\n",
              "      <td>...</td>\n",
              "      <td>...</td>\n",
              "      <td>...</td>\n",
              "      <td>...</td>\n",
              "      <td>...</td>\n",
              "      <td>...</td>\n",
              "      <td>...</td>\n",
              "      <td>...</td>\n",
              "      <td>...</td>\n",
              "      <td>...</td>\n",
              "    </tr>\n",
              "    <tr>\n",
              "      <th>293</th>\n",
              "      <td>2</td>\n",
              "      <td>146</td>\n",
              "      <td>-22</td>\n",
              "      <td>-8</td>\n",
              "      <td>11</td>\n",
              "      <td>23</td>\n",
              "      <td>-51</td>\n",
              "      <td>9</td>\n",
              "      <td>43</td>\n",
              "      <td>16</td>\n",
              "      <td>...</td>\n",
              "      <td>0</td>\n",
              "      <td>0</td>\n",
              "      <td>-15</td>\n",
              "      <td>-6</td>\n",
              "      <td>5</td>\n",
              "      <td>-7</td>\n",
              "      <td>-1</td>\n",
              "      <td>5</td>\n",
              "      <td>-354</td>\n",
              "      <td>-269</td>\n",
              "    </tr>\n",
              "    <tr>\n",
              "      <th>294</th>\n",
              "      <td>1</td>\n",
              "      <td>147</td>\n",
              "      <td>120</td>\n",
              "      <td>32</td>\n",
              "      <td>82</td>\n",
              "      <td>-40</td>\n",
              "      <td>30</td>\n",
              "      <td>-1</td>\n",
              "      <td>4</td>\n",
              "      <td>-1</td>\n",
              "      <td>...</td>\n",
              "      <td>14</td>\n",
              "      <td>1</td>\n",
              "      <td>5</td>\n",
              "      <td>-8</td>\n",
              "      <td>0</td>\n",
              "      <td>0</td>\n",
              "      <td>0</td>\n",
              "      <td>0</td>\n",
              "      <td>0</td>\n",
              "      <td>0</td>\n",
              "    </tr>\n",
              "    <tr>\n",
              "      <th>295</th>\n",
              "      <td>2</td>\n",
              "      <td>147</td>\n",
              "      <td>-24</td>\n",
              "      <td>-8</td>\n",
              "      <td>12</td>\n",
              "      <td>20</td>\n",
              "      <td>-51</td>\n",
              "      <td>7</td>\n",
              "      <td>47</td>\n",
              "      <td>12</td>\n",
              "      <td>...</td>\n",
              "      <td>0</td>\n",
              "      <td>0</td>\n",
              "      <td>-16</td>\n",
              "      <td>-7</td>\n",
              "      <td>6</td>\n",
              "      <td>-7</td>\n",
              "      <td>0</td>\n",
              "      <td>5</td>\n",
              "      <td>0</td>\n",
              "      <td>0</td>\n",
              "    </tr>\n",
              "    <tr>\n",
              "      <th>296</th>\n",
              "      <td>1</td>\n",
              "      <td>148</td>\n",
              "      <td>120</td>\n",
              "      <td>32</td>\n",
              "      <td>82</td>\n",
              "      <td>-40</td>\n",
              "      <td>30</td>\n",
              "      <td>-1</td>\n",
              "      <td>3</td>\n",
              "      <td>0</td>\n",
              "      <td>...</td>\n",
              "      <td>14</td>\n",
              "      <td>1</td>\n",
              "      <td>5</td>\n",
              "      <td>-8</td>\n",
              "      <td>0</td>\n",
              "      <td>0</td>\n",
              "      <td>0</td>\n",
              "      <td>0</td>\n",
              "      <td>0</td>\n",
              "      <td>0</td>\n",
              "    </tr>\n",
              "    <tr>\n",
              "      <th>297</th>\n",
              "      <td>2</td>\n",
              "      <td>148</td>\n",
              "      <td>-24</td>\n",
              "      <td>-8</td>\n",
              "      <td>12</td>\n",
              "      <td>20</td>\n",
              "      <td>-51</td>\n",
              "      <td>7</td>\n",
              "      <td>47</td>\n",
              "      <td>12</td>\n",
              "      <td>...</td>\n",
              "      <td>0</td>\n",
              "      <td>0</td>\n",
              "      <td>-16</td>\n",
              "      <td>-7</td>\n",
              "      <td>6</td>\n",
              "      <td>-7</td>\n",
              "      <td>0</td>\n",
              "      <td>5</td>\n",
              "      <td>0</td>\n",
              "      <td>0</td>\n",
              "    </tr>\n",
              "  </tbody>\n",
              "</table>\n",
              "<p>298 rows × 25 columns</p>\n",
              "</div>"
            ],
            "text/plain": [
              "     IMU  index  Xacc  Yacc  Zacc  Xori  Yori  Zori  Xmag  Ymag  ...  Yrot  \\\n",
              "0      1      0     0     0     0     0     0     0     0     0  ...     0   \n",
              "1      2      0    -4    -6     5    63     1    60     8    46  ...     0   \n",
              "2      1      1    21   -20    77     7     8   -45     0     0  ...     0   \n",
              "3      2      1    -4    -6     5    63     1    60     8    46  ...     0   \n",
              "4      1      2    21   -20    77     7     8   -45     0     0  ...     0   \n",
              "..   ...    ...   ...   ...   ...   ...   ...   ...   ...   ...  ...   ...   \n",
              "293    2    146   -22    -8    11    23   -51     9    43    16  ...     0   \n",
              "294    1    147   120    32    82   -40    30    -1     4    -1  ...    14   \n",
              "295    2    147   -24    -8    12    20   -51     7    47    12  ...     0   \n",
              "296    1    148   120    32    82   -40    30    -1     3     0  ...    14   \n",
              "297    2    148   -24    -8    12    20   -51     7    47    12  ...     0   \n",
              "\n",
              "     Zrot  Xlin  Ylin  Zlin  Xgrav  Ygrav  Zgrav    x    y  \n",
              "0       0     0     0     0      0      0      0    0    0  \n",
              "1       0     0     0     0     -4     -7      5    0    0  \n",
              "2       0    -5     0     8      0      0      0    0    0  \n",
              "3       0     0     0     0     -4     -7      5    0    0  \n",
              "4       0    -5     0     8      0      0      0    0    0  \n",
              "..    ...   ...   ...   ...    ...    ...    ...  ...  ...  \n",
              "293     0   -15    -6     5     -7     -1      5 -354 -269  \n",
              "294     1     5    -8     0      0      0      0    0    0  \n",
              "295     0   -16    -7     6     -7      0      5    0    0  \n",
              "296     1     5    -8     0      0      0      0    0    0  \n",
              "297     0   -16    -7     6     -7      0      5    0    0  \n",
              "\n",
              "[298 rows x 25 columns]"
            ]
          },
          "execution_count": 6,
          "metadata": {},
          "output_type": "execute_result"
        }
      ],
      "source": [
        "df.drop_duplicates()"
      ]
    },
    {
      "cell_type": "code",
      "execution_count": 7,
      "metadata": {
        "id": "h0M9Fo_Rp3mW"
      },
      "outputs": [],
      "source": [
        "dataset = []\n",
        "for i in range(len(df_full)):\n",
        "    df = df_full[i]\n",
        "    df_imu1 = df.loc[df['IMU'] == 1]\n",
        "    df_imu1.columns = ['IMU','index','X1acc', 'Y1acc', 'Z1acc', 'X1ori', 'Y1ori', 'Z1ori', 'X1mag', 'Y1mag' , 'Z1mag', 'X1gyro', 'Y1gyro', 'Z1gyro', 'X1rot','Y1rot', 'Z1rot' , 'X1lin' ,'Y1lin', 'Z1lin', 'X1grav', 'Y1grav', 'Z1grav', 'Xcam', 'Ycam']\n",
        "    df_imu2 = df.loc[df['IMU'] == 2]\n",
        "    df_imu2.columns = ['IMU','index','X2acc', 'Y2acc', 'Z2acc', 'X2ori', 'Y2ori', 'Z2ori', 'X2mag', 'Y2mag' , 'Z2mag', 'X2gyro', 'Y2gyro', 'Z2gyro', 'X2rot','Y2rot', 'Z2rot' , 'X2lin' ,'Y2lin', 'Z2lin', 'X2grav', 'Y2grav', 'Z2grav', 'Xcam', 'Ycam']\n",
        "    \n",
        "    merged_df = pd.merge(df_imu1, df_imu2, on='index')\n",
        "    merged_df.drop(columns=['index', 'IMU_x'], inplace=True)\n",
        "    dataset.append(merged_df)"
      ]
    },
    {
      "cell_type": "code",
      "execution_count": 8,
      "metadata": {
        "colab": {
          "base_uri": "https://localhost:8080/",
          "height": 300
        },
        "id": "8oOTEz16p3mX",
        "outputId": "9f401743-d7c1-4721-a2f0-24e397a943bd"
      },
      "outputs": [
        {
          "name": "stdout",
          "output_type": "stream",
          "text": [
            "[[2013.97542173  -13.18107201]\n",
            " [ -13.18107201    8.78904408]]\n"
          ]
        }
      ],
      "source": [
        "print(np.cov(dataset[0]['X1acc'], dataset[0]['X1lin']))"
      ]
    },
    {
      "cell_type": "code",
      "execution_count": 7,
      "metadata": {},
      "outputs": [
        {
          "data": {
            "text/plain": [
              "0    0\n",
              "1   -5\n",
              "2   -5\n",
              "3   -5\n",
              "4   -5\n",
              "Name: X1lin, dtype: int64"
            ]
          },
          "execution_count": 7,
          "metadata": {},
          "output_type": "execute_result"
        }
      ],
      "source": [
        "dataset[0]['X1lin']"
      ]
    },
    {
      "cell_type": "code",
      "execution_count": 18,
      "metadata": {
        "colab": {
          "base_uri": "https://localhost:8080/"
        },
        "id": "mznpmMq3p3mY",
        "outputId": "d7d6489d-2b69-460e-e3cd-a4455699599c"
      },
      "outputs": [
        {
          "name": "stdout",
          "output_type": "stream",
          "text": [
            "(98, 149, 47)\n"
          ]
        }
      ],
      "source": [
        "dataset_np = np.array(list(map(lambda x: x.to_numpy(), dataset)))\n",
        "\n",
        "print(dataset_np.shape)\n",
        "#racket  is 2\n",
        "#hand is 1 "
      ]
    },
    {
      "cell_type": "code",
      "execution_count": 69,
      "metadata": {
        "colab": {
          "base_uri": "https://localhost:8080/",
          "height": 424
        },
        "id": "qaFKRACKkoiZ",
        "outputId": "22c50569-9e47-4373-c1f3-b07ec3b9d2b4"
      },
      "outputs": [
        {
          "data": {
            "text/html": [
              "\n",
              "  <div id=\"df-4729eb49-e9f6-48b7-8179-f5123db1ee65\">\n",
              "    <div class=\"colab-df-container\">\n",
              "      <div>\n",
              "<style scoped>\n",
              "    .dataframe tbody tr th:only-of-type {\n",
              "        vertical-align: middle;\n",
              "    }\n",
              "\n",
              "    .dataframe tbody tr th {\n",
              "        vertical-align: top;\n",
              "    }\n",
              "\n",
              "    .dataframe thead th {\n",
              "        text-align: right;\n",
              "    }\n",
              "</style>\n",
              "<table border=\"1\" class=\"dataframe\">\n",
              "  <thead>\n",
              "    <tr style=\"text-align: right;\">\n",
              "      <th></th>\n",
              "      <th>IMU</th>\n",
              "      <th>index</th>\n",
              "      <th>Xacc</th>\n",
              "      <th>Yacc</th>\n",
              "      <th>Zacc</th>\n",
              "      <th>Xori</th>\n",
              "      <th>Yori</th>\n",
              "      <th>Zori</th>\n",
              "      <th>Xmag</th>\n",
              "      <th>Ymag</th>\n",
              "      <th>...</th>\n",
              "      <th>Yrot</th>\n",
              "      <th>Zrot</th>\n",
              "      <th>Xlin</th>\n",
              "      <th>Ylin</th>\n",
              "      <th>Zlin</th>\n",
              "      <th>Xgrav</th>\n",
              "      <th>Ygrav</th>\n",
              "      <th>Zgrav</th>\n",
              "      <th>x</th>\n",
              "      <th>y</th>\n",
              "    </tr>\n",
              "  </thead>\n",
              "  <tbody>\n",
              "    <tr>\n",
              "      <th>0</th>\n",
              "      <td>1</td>\n",
              "      <td>0</td>\n",
              "      <td>0</td>\n",
              "      <td>0</td>\n",
              "      <td>0</td>\n",
              "      <td>0</td>\n",
              "      <td>0</td>\n",
              "      <td>0</td>\n",
              "      <td>0</td>\n",
              "      <td>0</td>\n",
              "      <td>...</td>\n",
              "      <td>0</td>\n",
              "      <td>0</td>\n",
              "      <td>0</td>\n",
              "      <td>0</td>\n",
              "      <td>0</td>\n",
              "      <td>0</td>\n",
              "      <td>0</td>\n",
              "      <td>0</td>\n",
              "      <td>0</td>\n",
              "      <td>0</td>\n",
              "    </tr>\n",
              "    <tr>\n",
              "      <th>1</th>\n",
              "      <td>2</td>\n",
              "      <td>0</td>\n",
              "      <td>-2</td>\n",
              "      <td>-8</td>\n",
              "      <td>5</td>\n",
              "      <td>66</td>\n",
              "      <td>-8</td>\n",
              "      <td>43</td>\n",
              "      <td>-1</td>\n",
              "      <td>45</td>\n",
              "      <td>...</td>\n",
              "      <td>0</td>\n",
              "      <td>0</td>\n",
              "      <td>0</td>\n",
              "      <td>0</td>\n",
              "      <td>0</td>\n",
              "      <td>-2</td>\n",
              "      <td>-7</td>\n",
              "      <td>5</td>\n",
              "      <td>0</td>\n",
              "      <td>0</td>\n",
              "    </tr>\n",
              "    <tr>\n",
              "      <th>2</th>\n",
              "      <td>1</td>\n",
              "      <td>1</td>\n",
              "      <td>26</td>\n",
              "      <td>-39</td>\n",
              "      <td>-88</td>\n",
              "      <td>2</td>\n",
              "      <td>21</td>\n",
              "      <td>-44</td>\n",
              "      <td>0</td>\n",
              "      <td>0</td>\n",
              "      <td>...</td>\n",
              "      <td>0</td>\n",
              "      <td>0</td>\n",
              "      <td>-4</td>\n",
              "      <td>-2</td>\n",
              "      <td>8</td>\n",
              "      <td>0</td>\n",
              "      <td>0</td>\n",
              "      <td>0</td>\n",
              "      <td>0</td>\n",
              "      <td>0</td>\n",
              "    </tr>\n",
              "    <tr>\n",
              "      <th>3</th>\n",
              "      <td>2</td>\n",
              "      <td>1</td>\n",
              "      <td>-2</td>\n",
              "      <td>-8</td>\n",
              "      <td>5</td>\n",
              "      <td>66</td>\n",
              "      <td>-8</td>\n",
              "      <td>43</td>\n",
              "      <td>-1</td>\n",
              "      <td>45</td>\n",
              "      <td>...</td>\n",
              "      <td>0</td>\n",
              "      <td>0</td>\n",
              "      <td>0</td>\n",
              "      <td>0</td>\n",
              "      <td>0</td>\n",
              "      <td>-2</td>\n",
              "      <td>-7</td>\n",
              "      <td>5</td>\n",
              "      <td>0</td>\n",
              "      <td>0</td>\n",
              "    </tr>\n",
              "    <tr>\n",
              "      <th>4</th>\n",
              "      <td>1</td>\n",
              "      <td>2</td>\n",
              "      <td>26</td>\n",
              "      <td>-39</td>\n",
              "      <td>-88</td>\n",
              "      <td>2</td>\n",
              "      <td>21</td>\n",
              "      <td>-44</td>\n",
              "      <td>0</td>\n",
              "      <td>0</td>\n",
              "      <td>...</td>\n",
              "      <td>0</td>\n",
              "      <td>0</td>\n",
              "      <td>-4</td>\n",
              "      <td>-2</td>\n",
              "      <td>8</td>\n",
              "      <td>0</td>\n",
              "      <td>0</td>\n",
              "      <td>0</td>\n",
              "      <td>0</td>\n",
              "      <td>0</td>\n",
              "    </tr>\n",
              "    <tr>\n",
              "      <th>...</th>\n",
              "      <td>...</td>\n",
              "      <td>...</td>\n",
              "      <td>...</td>\n",
              "      <td>...</td>\n",
              "      <td>...</td>\n",
              "      <td>...</td>\n",
              "      <td>...</td>\n",
              "      <td>...</td>\n",
              "      <td>...</td>\n",
              "      <td>...</td>\n",
              "      <td>...</td>\n",
              "      <td>...</td>\n",
              "      <td>...</td>\n",
              "      <td>...</td>\n",
              "      <td>...</td>\n",
              "      <td>...</td>\n",
              "      <td>...</td>\n",
              "      <td>...</td>\n",
              "      <td>...</td>\n",
              "      <td>...</td>\n",
              "      <td>...</td>\n",
              "    </tr>\n",
              "    <tr>\n",
              "      <th>293</th>\n",
              "      <td>2</td>\n",
              "      <td>146</td>\n",
              "      <td>-21</td>\n",
              "      <td>-3</td>\n",
              "      <td>-17</td>\n",
              "      <td>-21</td>\n",
              "      <td>7</td>\n",
              "      <td>-84</td>\n",
              "      <td>-39</td>\n",
              "      <td>-11</td>\n",
              "      <td>...</td>\n",
              "      <td>0</td>\n",
              "      <td>0</td>\n",
              "      <td>-23</td>\n",
              "      <td>-2</td>\n",
              "      <td>-8</td>\n",
              "      <td>2</td>\n",
              "      <td>-1</td>\n",
              "      <td>-9</td>\n",
              "      <td>0</td>\n",
              "      <td>0</td>\n",
              "    </tr>\n",
              "    <tr>\n",
              "      <th>294</th>\n",
              "      <td>1</td>\n",
              "      <td>147</td>\n",
              "      <td>78</td>\n",
              "      <td>-6</td>\n",
              "      <td>76</td>\n",
              "      <td>-25</td>\n",
              "      <td>39</td>\n",
              "      <td>-9</td>\n",
              "      <td>0</td>\n",
              "      <td>0</td>\n",
              "      <td>...</td>\n",
              "      <td>-1</td>\n",
              "      <td>0</td>\n",
              "      <td>0</td>\n",
              "      <td>-9</td>\n",
              "      <td>2</td>\n",
              "      <td>0</td>\n",
              "      <td>0</td>\n",
              "      <td>0</td>\n",
              "      <td>0</td>\n",
              "      <td>0</td>\n",
              "    </tr>\n",
              "    <tr>\n",
              "      <th>295</th>\n",
              "      <td>2</td>\n",
              "      <td>147</td>\n",
              "      <td>-19</td>\n",
              "      <td>-4</td>\n",
              "      <td>-17</td>\n",
              "      <td>-20</td>\n",
              "      <td>0</td>\n",
              "      <td>-84</td>\n",
              "      <td>-39</td>\n",
              "      <td>-11</td>\n",
              "      <td>...</td>\n",
              "      <td>0</td>\n",
              "      <td>0</td>\n",
              "      <td>-20</td>\n",
              "      <td>-2</td>\n",
              "      <td>-8</td>\n",
              "      <td>0</td>\n",
              "      <td>-1</td>\n",
              "      <td>-9</td>\n",
              "      <td>0</td>\n",
              "      <td>0</td>\n",
              "    </tr>\n",
              "    <tr>\n",
              "      <th>296</th>\n",
              "      <td>1</td>\n",
              "      <td>148</td>\n",
              "      <td>78</td>\n",
              "      <td>-6</td>\n",
              "      <td>76</td>\n",
              "      <td>-25</td>\n",
              "      <td>39</td>\n",
              "      <td>-9</td>\n",
              "      <td>0</td>\n",
              "      <td>0</td>\n",
              "      <td>...</td>\n",
              "      <td>-1</td>\n",
              "      <td>0</td>\n",
              "      <td>0</td>\n",
              "      <td>-9</td>\n",
              "      <td>2</td>\n",
              "      <td>0</td>\n",
              "      <td>0</td>\n",
              "      <td>0</td>\n",
              "      <td>0</td>\n",
              "      <td>0</td>\n",
              "    </tr>\n",
              "    <tr>\n",
              "      <th>297</th>\n",
              "      <td>2</td>\n",
              "      <td>148</td>\n",
              "      <td>-18</td>\n",
              "      <td>-5</td>\n",
              "      <td>-17</td>\n",
              "      <td>-20</td>\n",
              "      <td>-3</td>\n",
              "      <td>-85</td>\n",
              "      <td>-25</td>\n",
              "      <td>-4</td>\n",
              "      <td>...</td>\n",
              "      <td>0</td>\n",
              "      <td>0</td>\n",
              "      <td>-18</td>\n",
              "      <td>-3</td>\n",
              "      <td>-7</td>\n",
              "      <td>0</td>\n",
              "      <td>-1</td>\n",
              "      <td>-9</td>\n",
              "      <td>0</td>\n",
              "      <td>0</td>\n",
              "    </tr>\n",
              "  </tbody>\n",
              "</table>\n",
              "<p>298 rows × 25 columns</p>\n",
              "</div>\n",
              "      <button class=\"colab-df-convert\" onclick=\"convertToInteractive('df-4729eb49-e9f6-48b7-8179-f5123db1ee65')\"\n",
              "              title=\"Convert this dataframe to an interactive table.\"\n",
              "              style=\"display:none;\">\n",
              "        \n",
              "  <svg xmlns=\"http://www.w3.org/2000/svg\" height=\"24px\"viewBox=\"0 0 24 24\"\n",
              "       width=\"24px\">\n",
              "    <path d=\"M0 0h24v24H0V0z\" fill=\"none\"/>\n",
              "    <path d=\"M18.56 5.44l.94 2.06.94-2.06 2.06-.94-2.06-.94-.94-2.06-.94 2.06-2.06.94zm-11 1L8.5 8.5l.94-2.06 2.06-.94-2.06-.94L8.5 2.5l-.94 2.06-2.06.94zm10 10l.94 2.06.94-2.06 2.06-.94-2.06-.94-.94-2.06-.94 2.06-2.06.94z\"/><path d=\"M17.41 7.96l-1.37-1.37c-.4-.4-.92-.59-1.43-.59-.52 0-1.04.2-1.43.59L10.3 9.45l-7.72 7.72c-.78.78-.78 2.05 0 2.83L4 21.41c.39.39.9.59 1.41.59.51 0 1.02-.2 1.41-.59l7.78-7.78 2.81-2.81c.8-.78.8-2.07 0-2.86zM5.41 20L4 18.59l7.72-7.72 1.47 1.35L5.41 20z\"/>\n",
              "  </svg>\n",
              "      </button>\n",
              "      \n",
              "  <style>\n",
              "    .colab-df-container {\n",
              "      display:flex;\n",
              "      flex-wrap:wrap;\n",
              "      gap: 12px;\n",
              "    }\n",
              "\n",
              "    .colab-df-convert {\n",
              "      background-color: #E8F0FE;\n",
              "      border: none;\n",
              "      border-radius: 50%;\n",
              "      cursor: pointer;\n",
              "      display: none;\n",
              "      fill: #1967D2;\n",
              "      height: 32px;\n",
              "      padding: 0 0 0 0;\n",
              "      width: 32px;\n",
              "    }\n",
              "\n",
              "    .colab-df-convert:hover {\n",
              "      background-color: #E2EBFA;\n",
              "      box-shadow: 0px 1px 2px rgba(60, 64, 67, 0.3), 0px 1px 3px 1px rgba(60, 64, 67, 0.15);\n",
              "      fill: #174EA6;\n",
              "    }\n",
              "\n",
              "    [theme=dark] .colab-df-convert {\n",
              "      background-color: #3B4455;\n",
              "      fill: #D2E3FC;\n",
              "    }\n",
              "\n",
              "    [theme=dark] .colab-df-convert:hover {\n",
              "      background-color: #434B5C;\n",
              "      box-shadow: 0px 1px 3px 1px rgba(0, 0, 0, 0.15);\n",
              "      filter: drop-shadow(0px 1px 2px rgba(0, 0, 0, 0.3));\n",
              "      fill: #FFFFFF;\n",
              "    }\n",
              "  </style>\n",
              "\n",
              "      <script>\n",
              "        const buttonEl =\n",
              "          document.querySelector('#df-4729eb49-e9f6-48b7-8179-f5123db1ee65 button.colab-df-convert');\n",
              "        buttonEl.style.display =\n",
              "          google.colab.kernel.accessAllowed ? 'block' : 'none';\n",
              "\n",
              "        async function convertToInteractive(key) {\n",
              "          const element = document.querySelector('#df-4729eb49-e9f6-48b7-8179-f5123db1ee65');\n",
              "          const dataTable =\n",
              "            await google.colab.kernel.invokeFunction('convertToInteractive',\n",
              "                                                     [key], {});\n",
              "          if (!dataTable) return;\n",
              "\n",
              "          const docLinkHtml = 'Like what you see? Visit the ' +\n",
              "            '<a target=\"_blank\" href=https://colab.research.google.com/notebooks/data_table.ipynb>data table notebook</a>'\n",
              "            + ' to learn more about interactive tables.';\n",
              "          element.innerHTML = '';\n",
              "          dataTable['output_type'] = 'display_data';\n",
              "          await google.colab.output.renderOutput(dataTable, element);\n",
              "          const docLink = document.createElement('div');\n",
              "          docLink.innerHTML = docLinkHtml;\n",
              "          element.appendChild(docLink);\n",
              "        }\n",
              "      </script>\n",
              "    </div>\n",
              "  </div>\n",
              "  "
            ],
            "text/plain": [
              "     IMU  index  Xacc  Yacc  Zacc  Xori  Yori  Zori  Xmag  Ymag  ...  Yrot  \\\n",
              "0      1      0     0     0     0     0     0     0     0     0  ...     0   \n",
              "1      2      0    -2    -8     5    66    -8    43    -1    45  ...     0   \n",
              "2      1      1    26   -39   -88     2    21   -44     0     0  ...     0   \n",
              "3      2      1    -2    -8     5    66    -8    43    -1    45  ...     0   \n",
              "4      1      2    26   -39   -88     2    21   -44     0     0  ...     0   \n",
              "..   ...    ...   ...   ...   ...   ...   ...   ...   ...   ...  ...   ...   \n",
              "293    2    146   -21    -3   -17   -21     7   -84   -39   -11  ...     0   \n",
              "294    1    147    78    -6    76   -25    39    -9     0     0  ...    -1   \n",
              "295    2    147   -19    -4   -17   -20     0   -84   -39   -11  ...     0   \n",
              "296    1    148    78    -6    76   -25    39    -9     0     0  ...    -1   \n",
              "297    2    148   -18    -5   -17   -20    -3   -85   -25    -4  ...     0   \n",
              "\n",
              "     Zrot  Xlin  Ylin  Zlin  Xgrav  Ygrav  Zgrav  x  y  \n",
              "0       0     0     0     0      0      0      0  0  0  \n",
              "1       0     0     0     0     -2     -7      5  0  0  \n",
              "2       0    -4    -2     8      0      0      0  0  0  \n",
              "3       0     0     0     0     -2     -7      5  0  0  \n",
              "4       0    -4    -2     8      0      0      0  0  0  \n",
              "..    ...   ...   ...   ...    ...    ...    ... .. ..  \n",
              "293     0   -23    -2    -8      2     -1     -9  0  0  \n",
              "294     0     0    -9     2      0      0      0  0  0  \n",
              "295     0   -20    -2    -8      0     -1     -9  0  0  \n",
              "296     0     0    -9     2      0      0      0  0  0  \n",
              "297     0   -18    -3    -7      0     -1     -9  0  0  \n",
              "\n",
              "[298 rows x 25 columns]"
            ]
          },
          "execution_count": 69,
          "metadata": {},
          "output_type": "execute_result"
        }
      ],
      "source": [
        "df.drop_duplicates()"
      ]
    },
    {
      "cell_type": "code",
      "execution_count": 70,
      "metadata": {
        "id": "kv6uGGFzdmgu"
      },
      "outputs": [],
      "source": [
        "dataset = []\n",
        "for i in range(len(df_full)):\n",
        "    df = df_full[i]\n",
        "    df_imu1 = df.loc[df['IMU'] == 1]\n",
        "    df_imu1.columns = ['IMU','index','X1acc', 'Y1acc', 'Z1acc', 'X1ori', 'Y1ori', 'Z1ori', 'X1mag', 'Y1mag' , 'Z1mag', 'X1gyro', 'Y1gyro', 'Z1gyro', 'X1rot','Y1rot', 'Z1rot' , 'X1lin' ,'Y1lin', 'Z1lin', 'X1grav', 'Y1grav', 'Z1grav', 'Xcam', 'Ycam']\n",
        "    df_imu2 = df.loc[df['IMU'] == 2]\n",
        "    df_imu2.columns = ['IMU','index','X2acc', 'Y2acc', 'Z2acc', 'X2ori', 'Y2ori', 'Z2ori', 'X2mag', 'Y2mag' , 'Z2mag', 'X2gyro', 'Y2gyro', 'Z2gyro', 'X2rot','Y2rot', 'Z2rot' , 'X2lin' ,'Y2lin', 'Z2lin', 'X2grav', 'Y2grav', 'Z2grav', 'Xcam', 'Ycam']\n",
        "    \n",
        "    merged_df = pd.merge(df_imu1, df_imu2, on='index')\n",
        "    merged_df.drop(columns=['index', 'IMU_x'], inplace=True)\n",
        "    dataset.append(merged_df)"
      ]
    },
    {
      "cell_type": "code",
      "execution_count": 12,
      "metadata": {
        "colab": {
          "base_uri": "https://localhost:8080/",
          "height": 300
        },
        "id": "uGO3If9tdmgv",
        "outputId": "b8c78bb9-4fee-420e-ec01-3510a03476e6"
      },
      "outputs": [
        {
          "name": "stdout",
          "output_type": "stream",
          "text": [
            "Index(['X1acc', 'Y1acc', 'Z1acc', 'X1ori', 'Y1ori', 'Z1ori', 'X1mag', 'Y1mag',\n",
            "       'Z1mag', 'X1gyro', 'Y1gyro', 'Z1gyro', 'X1rot', 'Y1rot', 'Z1rot',\n",
            "       'X1lin', 'Y1lin', 'Z1lin', 'X1grav', 'Y1grav', 'Z1grav', 'Xcam_x',\n",
            "       'Ycam_x', 'IMU_y', 'X2acc', 'Y2acc', 'Z2acc', 'X2ori', 'Y2ori', 'Z2ori',\n",
            "       'X2mag', 'Y2mag', 'Z2mag', 'X2gyro', 'Y2gyro', 'Z2gyro', 'X2rot',\n",
            "       'Y2rot', 'Z2rot', 'X2lin', 'Y2lin', 'Z2lin', 'X2grav', 'Y2grav',\n",
            "       'Z2grav', 'Xcam_y', 'Ycam_y'],\n",
            "      dtype='object')\n"
          ]
        }
      ],
      "source": [
        "dataset[0].head()\n",
        "print(dataset[0].columns)"
      ]
    },
    {
      "cell_type": "code",
      "execution_count": null,
      "metadata": {},
      "outputs": [],
      "source": []
    },
    {
      "cell_type": "code",
      "execution_count": 72,
      "metadata": {
        "colab": {
          "base_uri": "https://localhost:8080/"
        },
        "id": "M9hGgU9Ldmgv",
        "outputId": "61c174d1-8a17-4d01-c33e-50b309bad05a"
      },
      "outputs": [
        {
          "name": "stdout",
          "output_type": "stream",
          "text": [
            "(98, 149, 47)\n"
          ]
        }
      ],
      "source": [
        "dataset_np = np.array(list(map(lambda x: x.to_numpy(), dataset)))\n",
        "\n",
        "print(dataset_np.shape)\n",
        "#racket  is 2\n",
        "#hand is 1 "
      ]
    },
    {
      "cell_type": "code",
      "execution_count": 107,
      "metadata": {
        "id": "I6t4Pr2Rp25j"
      },
      "outputs": [],
      "source": [
        "import pickle\n",
        "\n",
        "\n",
        "with open('filename.pickle', 'wb') as handle:\n",
        "    pickle.dump(dataset_np, handle, protocol=pickle.HIGHEST_PROTOCOL)\n",
        "\n",
        "with open('filename.pickle', 'rb') as handle:\n",
        "    dataset_np1 = pickle.load(handle)"
      ]
    },
    {
      "cell_type": "markdown",
      "metadata": {
        "id": "xoMsQboarmtX"
      },
      "source": [
        "## ACCELERATION"
      ]
    },
    {
      "cell_type": "code",
      "execution_count": 18,
      "metadata": {
        "colab": {
          "base_uri": "https://localhost:8080/",
          "height": 281
        },
        "id": "BqZF1CeYrmtn",
        "outputId": "16146669-b3ca-4153-dd82-930b49f5dea7"
      },
      "outputs": [
        {
          "data": {
            "image/png": "[encoded data removed]",
            "text/plain": [
              "<Figure size 640x480 with 1 Axes>"
            ]
          },
          "metadata": {},
          "output_type": "display_data"
        }
      ],
      "source": [
        "import matplotlib.pyplot as plt\n",
        "\n",
        "IMU = 1\n",
        "\n",
        "plt.plot(df.loc[df['IMU'] == IMU]['Xacc'], label='Xacc')\n",
        "plt.plot(df.loc[df['IMU'] == IMU]['Yacc'], label='Yacc')\n",
        "plt.plot(df.loc[df['IMU'] == IMU]['Zacc'], label='Zacc')\n",
        "plt.title(f'IMU hand {IMU} Acceleration')\n",
        "plt.legend()\n",
        "plt.show()"
      ]
    },
    {
      "cell_type": "code",
      "execution_count": 36,
      "metadata": {
        "colab": {
          "base_uri": "https://localhost:8080/",
          "height": 281
        },
        "id": "9P7RuRCTrmto",
        "outputId": "06d32ffc-102b-4320-cca2-b7f0a04b65e4"
      },
      "outputs": [
        {
          "data": {
            "image/png": "[encoded data removed]",
            "text/plain": [
              "<Figure size 640x480 with 1 Axes>"
            ]
          },
          "metadata": {},
          "output_type": "display_data"
        }
      ],
      "source": [
        "IMU = 2\n",
        "\n",
        "plt.plot(df.loc[df['IMU'] == IMU]['Xacc'], label='Xacc')\n",
        "plt.plot(df.loc[df['IMU'] == IMU]['Yacc'], label='Yacc')\n",
        "plt.plot(df.loc[df['IMU'] == IMU]['Zacc'], label='Zacc')\n",
        "plt.xticks(ticks=np.arange(0, 300, step=50),labels=np.arange(0, 150, step=25))\n",
        "plt.title(f'IMU racket {IMU} Acceleration')\n",
        "plt.legend()\n",
        "plt.show()"
      ]
    },
    {
      "cell_type": "markdown",
      "metadata": {
        "id": "fHD3-sg5rmtp"
      },
      "source": [
        "##GYROSCOPE"
      ]
    },
    {
      "cell_type": "code",
      "execution_count": 24,
      "metadata": {
        "colab": {
          "base_uri": "https://localhost:8080/",
          "height": 281
        },
        "id": "ZYGq8f16rmtp",
        "outputId": "fd9e2ccd-3052-4e73-ca21-d2847569ef05"
      },
      "outputs": [
        {
          "data": {
            "image/png": "[encoded data removed]",
            "text/plain": [
              "<Figure size 640x480 with 1 Axes>"
            ]
          },
          "metadata": {},
          "output_type": "display_data"
        }
      ],
      "source": [
        "import matplotlib.pyplot as plt\n",
        "\n",
        "IMU = 1\n",
        "\n",
        "plt.plot(df.loc[df['IMU'] == IMU]['Xgyro'], label='Xgyro')\n",
        "plt.plot(df.loc[df['IMU'] == IMU]['Ygyro'], label='Ygyro')\n",
        "plt.plot(df.loc[df['IMU'] == IMU]['Zgyro'], label='Zgyro')\n",
        "plt.title(f'IMU hand {IMU} Gyroscope')\n",
        "plt.legend()\n",
        "plt.show()"
      ]
    },
    {
      "cell_type": "code",
      "execution_count": 23,
      "metadata": {
        "colab": {
          "base_uri": "https://localhost:8080/",
          "height": 281
        },
        "id": "NJhD0idNrmtq",
        "outputId": "606405b2-068c-4d73-86e9-fb7ed1cf2093"
      },
      "outputs": [
        {
          "data": {
            "image/png": "[encoded data removed]",
            "text/plain": [
              "<Figure size 640x480 with 1 Axes>"
            ]
          },
          "metadata": {},
          "output_type": "display_data"
        }
      ],
      "source": [
        "IMU = 2\n",
        "\n",
        "plt.plot(df.loc[df['IMU'] == IMU]['Xgyro'], label='Xgyro')\n",
        "plt.plot(df.loc[df['IMU'] == IMU]['Ygyro'], label='Ygyro')\n",
        "plt.plot(df.loc[df['IMU'] == IMU]['Zgyro'], label='Zgyro')\n",
        "plt.title(f'IMU racket {IMU} Gyroscope')\n",
        "plt.legend()\n",
        "plt.show()"
      ]
    },
    {
      "attachments": {},
      "cell_type": "markdown",
      "metadata": {
        "id": "dJi-RfJCrmtq"
      },
      "source": [
        "## Linear"
      ]
    },
    {
      "cell_type": "code",
      "execution_count": 20,
      "metadata": {
        "colab": {
          "base_uri": "https://localhost:8080/",
          "height": 281
        },
        "id": "yZYM20tArmtq",
        "outputId": "d0e61cea-889f-4ebb-b8ab-0a7b8e10a471"
      },
      "outputs": [
        {
          "data": {
            "image/png": "[encoded data removed]",
            "text/plain": [
              "<Figure size 640x480 with 1 Axes>"
            ]
          },
          "metadata": {},
          "output_type": "display_data"
        }
      ],
      "source": [
        "import matplotlib.pyplot as plt\n",
        "\n",
        "IMU = 1\n",
        "\n",
        "plt.plot(df.loc[df['IMU'] == IMU]['Xlin'], label='Xlin')\n",
        "plt.plot(df.loc[df['IMU'] == IMU]['Ylin'], label='Ylin')\n",
        "plt.plot(df.loc[df['IMU'] == IMU]['Zlin'], label='Zlin')\n",
        "plt.title(f'IMU hand {IMU} Linear')\n",
        "plt.legend()\n",
        "plt.show()"
      ]
    },
    {
      "cell_type": "code",
      "execution_count": 22,
      "metadata": {
        "colab": {
          "base_uri": "https://localhost:8080/",
          "height": 281
        },
        "id": "unOn8YiXrmtr",
        "outputId": "15281da9-7fbe-4edc-bf35-afaec8ac0c40"
      },
      "outputs": [
        {
          "data": {
            "image/png": "[encoded data removed]",
            "text/plain": [
              "<Figure size 640x480 with 1 Axes>"
            ]
          },
          "metadata": {},
          "output_type": "display_data"
        }
      ],
      "source": [
        "IMU = 2\n",
        "\n",
        "plt.plot(df.loc[df['IMU'] == IMU]['Xlin'], label='Xlin')\n",
        "plt.plot(df.loc[df['IMU'] == IMU]['Ylin'], label='Ylin')\n",
        "plt.plot(df.loc[df['IMU'] == IMU]['Zlin'], label='Zlin')\n",
        "plt.title(f'IMU racket {IMU} Linear')\n",
        "plt.legend()\n",
        "plt.show()"
      ]
    },
    {
      "cell_type": "markdown",
      "metadata": {
        "id": "0XnF4_hsdmgw"
      },
      "source": [
        "## Some stats to analyse our data"
      ]
    },
    {
      "cell_type": "code",
      "execution_count": null,
      "metadata": {
        "id": "4yH31KzssUOu"
      },
      "outputs": [],
      "source": [
        "# (mean and std)\n",
        "# gyro in hand is 0 \n",
        "# grav in hand is 0 \n",
        "# rot in rackette is 0"
      ]
    },
    {
      "cell_type": "code",
      "execution_count": 19,
      "metadata": {
        "colab": {
          "base_uri": "https://localhost:8080/"
        },
        "id": "mCTTtvvis-Um",
        "outputId": "8c2dddbc-9535-4e1a-a092-1b437b57c74c"
      },
      "outputs": [
        {
          "data": {
            "text/plain": [
              "(98, 149, 47)"
            ]
          },
          "execution_count": 19,
          "metadata": {},
          "output_type": "execute_result"
        }
      ],
      "source": [
        "dataset_np.shape"
      ]
    },
    {
      "cell_type": "code",
      "execution_count": 20,
      "metadata": {
        "colab": {
          "base_uri": "https://localhost:8080/"
        },
        "id": "Q4lreToGuTpq",
        "outputId": "88f1dad4-0bbb-49ce-e425-ea7ceeb8b9cc"
      },
      "outputs": [
        {
          "data": {
            "text/plain": [
              "(149, 47)"
            ]
          },
          "execution_count": 20,
          "metadata": {},
          "output_type": "execute_result"
        }
      ],
      "source": [
        "np.mean(dataset_np,axis=0).shape"
      ]
    },
    {
      "cell_type": "code",
      "execution_count": 22,
      "metadata": {
        "id": "x46OD3OOtf5r"
      },
      "outputs": [],
      "source": [
        "mean_each_timestep = np.mean(dataset_np,axis=0)"
      ]
    },
    {
      "cell_type": "code",
      "execution_count": 23,
      "metadata": {
        "id": "5z4FpBQhvEsJ"
      },
      "outputs": [],
      "source": [
        "mean_each_serve=np.mean(mean_each_timestep,axis=0)"
      ]
    },
    {
      "cell_type": "code",
      "execution_count": 32,
      "metadata": {
        "id": "RFQZzqm0vwL9"
      },
      "outputs": [
        {
          "name": "stdout",
          "output_type": "stream",
          "text": [
            "(1, 47)\n"
          ]
        }
      ],
      "source": [
        "print(np.atleast_2d(mean_each_serve).shape)"
      ]
    },
    {
      "cell_type": "code",
      "execution_count": 33,
      "metadata": {
        "colab": {
          "base_uri": "https://localhost:8080/"
        },
        "id": "mITufCY9vVYU",
        "outputId": "99536cc0-7592-4501-bf7f-52091ad259f7"
      },
      "outputs": [
        {
          "data": {
            "text/html": [
              "<div>\n",
              "<style scoped>\n",
              "    .dataframe tbody tr th:only-of-type {\n",
              "        vertical-align: middle;\n",
              "    }\n",
              "\n",
              "    .dataframe tbody tr th {\n",
              "        vertical-align: top;\n",
              "    }\n",
              "\n",
              "    .dataframe thead th {\n",
              "        text-align: right;\n",
              "    }\n",
              "</style>\n",
              "<table border=\"1\" class=\"dataframe\">\n",
              "  <thead>\n",
              "    <tr style=\"text-align: right;\">\n",
              "      <th></th>\n",
              "      <th>X1acc</th>\n",
              "      <th>Y1acc</th>\n",
              "      <th>Z1acc</th>\n",
              "      <th>X1ori</th>\n",
              "      <th>Y1ori</th>\n",
              "      <th>Z1ori</th>\n",
              "      <th>X1mag</th>\n",
              "      <th>Y1mag</th>\n",
              "      <th>Z1mag</th>\n",
              "      <th>X1gyro</th>\n",
              "      <th>...</th>\n",
              "      <th>Y2rot</th>\n",
              "      <th>Z2rot</th>\n",
              "      <th>X2lin</th>\n",
              "      <th>Y2lin</th>\n",
              "      <th>Z2lin</th>\n",
              "      <th>X2grav</th>\n",
              "      <th>Y2grav</th>\n",
              "      <th>Z2grav</th>\n",
              "      <th>Xcam_y</th>\n",
              "      <th>Ycam_y</th>\n",
              "    </tr>\n",
              "  </thead>\n",
              "  <tbody>\n",
              "    <tr>\n",
              "      <th>0</th>\n",
              "      <td>33.988837</td>\n",
              "      <td>-20.401794</td>\n",
              "      <td>-9.150938</td>\n",
              "      <td>-1.556705</td>\n",
              "      <td>11.018902</td>\n",
              "      <td>29.598</td>\n",
              "      <td>0.714628</td>\n",
              "      <td>-0.110875</td>\n",
              "      <td>-0.018354</td>\n",
              "      <td>-0.005684</td>\n",
              "      <td>...</td>\n",
              "      <td>0.0</td>\n",
              "      <td>0.0</td>\n",
              "      <td>-4.328311</td>\n",
              "      <td>-0.681414</td>\n",
              "      <td>-1.560608</td>\n",
              "      <td>-0.407273</td>\n",
              "      <td>-6.220449</td>\n",
              "      <td>3.133612</td>\n",
              "      <td>16.902548</td>\n",
              "      <td>1.864471</td>\n",
              "    </tr>\n",
              "  </tbody>\n",
              "</table>\n",
              "<p>1 rows × 47 columns</p>\n",
              "</div>"
            ],
            "text/plain": [
              "       X1acc      Y1acc     Z1acc     X1ori      Y1ori   Z1ori     X1mag  \\\n",
              "0  33.988837 -20.401794 -9.150938 -1.556705  11.018902  29.598  0.714628   \n",
              "\n",
              "      Y1mag     Z1mag    X1gyro  ...  Y2rot  Z2rot     X2lin     Y2lin  \\\n",
              "0 -0.110875 -0.018354 -0.005684  ...    0.0    0.0 -4.328311 -0.681414   \n",
              "\n",
              "      Z2lin    X2grav    Y2grav    Z2grav     Xcam_y    Ycam_y  \n",
              "0 -1.560608 -0.407273 -6.220449  3.133612  16.902548  1.864471  \n",
              "\n",
              "[1 rows x 47 columns]"
            ]
          },
          "execution_count": 33,
          "metadata": {},
          "output_type": "execute_result"
        }
      ],
      "source": [
        "df = pd.DataFrame(np.atleast_2d(mean_each_serve), columns= ['X1acc', 'Y1acc', 'Z1acc', 'X1ori', 'Y1ori', 'Z1ori', 'X1mag', 'Y1mag','Z1mag', 'X1gyro', 'Y1gyro', 'Z1gyro', 'X1rot', 'Y1rot', 'Z1rot','X1lin', 'Y1lin', 'Z1lin', 'X1grav', 'Y1grav', 'Z1grav', 'Xcam_x','Ycam_x', 'IMU_y', 'X2acc', 'Y2acc', 'Z2acc', 'X2ori', 'Y2ori', 'Z2ori','X2mag', 'Y2mag', 'Z2mag', 'X2gyro', 'Y2gyro', 'Z2gyro', 'X2rot','Y2rot', 'Z2rot', 'X2lin', 'Y2lin', 'Z2lin', 'X2grav', 'Y2grav','Z2grav', 'Xcam_y', 'Ycam_y'])\n",
        "df.head()"
      ]
    },
    {
      "cell_type": "code",
      "execution_count": null,
      "metadata": {
        "id": "Rt7HAKPHve9y"
      },
      "outputs": [],
      "source": []
    },
    {
      "cell_type": "code",
      "execution_count": 34,
      "metadata": {
        "id": "HGl5qxxlvfI6"
      },
      "outputs": [],
      "source": [
        "std_each_timestep = np.std(dataset_np,axis=0)"
      ]
    },
    {
      "cell_type": "code",
      "execution_count": 35,
      "metadata": {
        "id": "t-zltVWTvfI7"
      },
      "outputs": [],
      "source": [
        "std_each_serve=np.std(mean_each_timestep,axis=0)"
      ]
    },
    {
      "cell_type": "code",
      "execution_count": 36,
      "metadata": {
        "colab": {
          "base_uri": "https://localhost:8080/"
        },
        "id": "83thbRxWvfI7",
        "outputId": "9f084e8f-cca9-47b2-e65e-4c7c2c8291ae"
      },
      "outputs": [
        {
          "data": {
            "text/html": [
              "<div>\n",
              "<style scoped>\n",
              "    .dataframe tbody tr th:only-of-type {\n",
              "        vertical-align: middle;\n",
              "    }\n",
              "\n",
              "    .dataframe tbody tr th {\n",
              "        vertical-align: top;\n",
              "    }\n",
              "\n",
              "    .dataframe thead th {\n",
              "        text-align: right;\n",
              "    }\n",
              "</style>\n",
              "<table border=\"1\" class=\"dataframe\">\n",
              "  <thead>\n",
              "    <tr style=\"text-align: right;\">\n",
              "      <th></th>\n",
              "      <th>X1acc</th>\n",
              "      <th>Y1acc</th>\n",
              "      <th>Z1acc</th>\n",
              "      <th>X1ori</th>\n",
              "      <th>Y1ori</th>\n",
              "      <th>Z1ori</th>\n",
              "      <th>X1mag</th>\n",
              "      <th>Y1mag</th>\n",
              "      <th>Z1mag</th>\n",
              "      <th>X1gyro</th>\n",
              "      <th>...</th>\n",
              "      <th>Y2rot</th>\n",
              "      <th>Z2rot</th>\n",
              "      <th>X2lin</th>\n",
              "      <th>Y2lin</th>\n",
              "      <th>Z2lin</th>\n",
              "      <th>X2grav</th>\n",
              "      <th>Y2grav</th>\n",
              "      <th>Z2grav</th>\n",
              "      <th>Xcam_y</th>\n",
              "      <th>Ycam_y</th>\n",
              "    </tr>\n",
              "  </thead>\n",
              "  <tbody>\n",
              "    <tr>\n",
              "      <th>0</th>\n",
              "      <td>7.084107</td>\n",
              "      <td>12.437498</td>\n",
              "      <td>15.324313</td>\n",
              "      <td>10.125362</td>\n",
              "      <td>5.898355</td>\n",
              "      <td>12.393656</td>\n",
              "      <td>1.560243</td>\n",
              "      <td>0.758519</td>\n",
              "      <td>1.13544</td>\n",
              "      <td>0.069151</td>\n",
              "      <td>...</td>\n",
              "      <td>0.0</td>\n",
              "      <td>0.0</td>\n",
              "      <td>4.448803</td>\n",
              "      <td>1.481029</td>\n",
              "      <td>1.313565</td>\n",
              "      <td>1.301334</td>\n",
              "      <td>1.542395</td>\n",
              "      <td>1.877082</td>\n",
              "      <td>14.012472</td>\n",
              "      <td>9.567553</td>\n",
              "    </tr>\n",
              "  </tbody>\n",
              "</table>\n",
              "<p>1 rows × 47 columns</p>\n",
              "</div>"
            ],
            "text/plain": [
              "      X1acc      Y1acc      Z1acc      X1ori     Y1ori      Z1ori     X1mag  \\\n",
              "0  7.084107  12.437498  15.324313  10.125362  5.898355  12.393656  1.560243   \n",
              "\n",
              "      Y1mag    Z1mag    X1gyro  ...  Y2rot  Z2rot     X2lin     Y2lin  \\\n",
              "0  0.758519  1.13544  0.069151  ...    0.0    0.0  4.448803  1.481029   \n",
              "\n",
              "      Z2lin    X2grav    Y2grav    Z2grav     Xcam_y    Ycam_y  \n",
              "0  1.313565  1.301334  1.542395  1.877082  14.012472  9.567553  \n",
              "\n",
              "[1 rows x 47 columns]"
            ]
          },
          "execution_count": 36,
          "metadata": {},
          "output_type": "execute_result"
        }
      ],
      "source": [
        "df = pd.DataFrame(np.atleast_2d(std_each_serve), columns= ['X1acc', 'Y1acc', 'Z1acc', 'X1ori', 'Y1ori', 'Z1ori', 'X1mag', 'Y1mag','Z1mag', 'X1gyro', 'Y1gyro', 'Z1gyro', 'X1rot', 'Y1rot', 'Z1rot','X1lin', 'Y1lin', 'Z1lin', 'X1grav', 'Y1grav', 'Z1grav', 'Xcam_x','Ycam_x', 'IMU_y', 'X2acc', 'Y2acc', 'Z2acc', 'X2ori', 'Y2ori', 'Z2ori','X2mag', 'Y2mag', 'Z2mag', 'X2gyro', 'Y2gyro', 'Z2gyro', 'X2rot','Y2rot', 'Z2rot', 'X2lin', 'Y2lin', 'Z2lin', 'X2grav', 'Y2grav','Z2grav', 'Xcam_y', 'Ycam_y'])\n",
        "df.head()"
      ]
    }
  ],
  "metadata": {
    "colab": {
      "provenance": []
    },
    "kernelspec": {
      "display_name": "Python 3",
      "name": "python3"
    },
    "language_info": {
      "codemirror_mode": {
        "name": "ipython",
        "version": 3
      },
      "file_extension": ".py",
      "mimetype": "text/x-python",
      "name": "python",
      "nbconvert_exporter": "python",
      "pygments_lexer": "ipython3",
      "version": "3.10.10"
    }
  },
  "nbformat": 4,
  "nbformat_minor": 0
}
