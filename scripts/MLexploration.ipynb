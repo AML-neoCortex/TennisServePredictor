{
  "nbformat": 4,
  "nbformat_minor": 0,
  "metadata": {
    "colab": {
      "provenance": []
    },
    "kernelspec": {
      "name": "python3",
      "display_name": "Python 3"
    },
    "language_info": {
      "name": "python"
    }
  },
  "cells": [
    {
      "cell_type": "code",
      "source": [
        "import pickle\n",
        "with open('filename.pickle', 'rb') as handle:\n",
        "    data = pickle.load(handle)"
      ],
      "metadata": {
        "id": "sOQYGmllx5fx"
      },
      "execution_count": 1,
      "outputs": []
    },
    {
      "cell_type": "code",
      "source": [
        "with open('labels.pickle', 'rb') as handle:\n",
        "    target = pickle.load(handle)"
      ],
      "metadata": {
        "id": "m-yhVPoMy6F4"
      },
      "execution_count": 2,
      "outputs": []
    },
    {
      "cell_type": "code",
      "source": [
        "import numpy as np\n",
        "\n",
        "data=np.asarray(data, dtype = np.float64, \n",
        "                        order ='C')"
      ],
      "metadata": {
        "id": "sQrsMDnP62kM"
      },
      "execution_count": 5,
      "outputs": []
    },
    {
      "cell_type": "code",
      "source": [
        "!pip install scikeras"
      ],
      "metadata": {
        "colab": {
          "base_uri": "https://localhost:8080/"
        },
        "id": "VswHZrCd7v9R",
        "outputId": "4d62dd6d-858b-4e92-b5fc-cb6caa687557"
      },
      "execution_count": 4,
      "outputs": [
        {
          "output_type": "stream",
          "name": "stdout",
          "text": [
            "Looking in indexes: https://pypi.org/simple, https://us-python.pkg.dev/colab-wheels/public/simple/\n",
            "Collecting scikeras\n",
            "  Downloading scikeras-0.10.0-py3-none-any.whl (27 kB)\n",
            "Requirement already satisfied: scikit-learn>=1.0.0 in /usr/local/lib/python3.9/dist-packages (from scikeras) (1.2.2)\n",
            "Requirement already satisfied: packaging>=0.21 in /usr/local/lib/python3.9/dist-packages (from scikeras) (23.0)\n",
            "Requirement already satisfied: numpy>=1.17.3 in /usr/local/lib/python3.9/dist-packages (from scikit-learn>=1.0.0->scikeras) (1.22.4)\n",
            "Requirement already satisfied: joblib>=1.1.1 in /usr/local/lib/python3.9/dist-packages (from scikit-learn>=1.0.0->scikeras) (1.1.1)\n",
            "Requirement already satisfied: scipy>=1.3.2 in /usr/local/lib/python3.9/dist-packages (from scikit-learn>=1.0.0->scikeras) (1.10.1)\n",
            "Requirement already satisfied: threadpoolctl>=2.0.0 in /usr/local/lib/python3.9/dist-packages (from scikit-learn>=1.0.0->scikeras) (3.1.0)\n",
            "Installing collected packages: scikeras\n",
            "Successfully installed scikeras-0.10.0\n"
          ]
        }
      ]
    },
    {
      "cell_type": "code",
      "source": [
        "import numpy as np\n",
        "from sklearn.linear_model import LogisticRegression\n",
        "from sklearn.tree import DecisionTreeClassifier\n",
        "from sklearn.svm import SVC\n",
        "from keras.models import Sequential\n",
        "from keras.layers import Dense, LSTM, GRU, SimpleRNN, Flatten,Dropout\n",
        "from keras.wrappers.scikit_learn import KerasClassifier\n",
        "from sklearn.metrics import accuracy_score\n",
        "\n",
        "# Generate a dataset of 20 samples of (149,47) fictive data\n",
        "# data = np.random.rand(20, 149, 47)\n",
        "# target = np.random.randint(0, 2, size=(20,))\n",
        "\n",
        "# Define the Scikit-learn models to be tested\n",
        "scikit_models = [\n",
        "    ('Linear Regression', LogisticRegression()),\n",
        "    ('Decision Tree', DecisionTreeClassifier()),\n",
        "    ('SVM', SVC())\n",
        "]\n",
        "\n",
        "# Loop over Scikit-learn models, train the model, and evaluate the model\n",
        "for name, model in scikit_models:\n",
        "    model.fit(data.reshape(98, -1), target)\n",
        "    y_pred = model.predict(data.reshape(98, -1))\n",
        "    acc = accuracy_score(target, y_pred)\n",
        "    print(name, acc)\n",
        "\n",
        "# Define the Keras models to be tested\n",
        "def create_rnn():\n",
        "    model = Sequential([SimpleRNN(32), Dense(1, activation='sigmoid')])\n",
        "    model.compile(loss='binary_crossentropy', optimizer='adam', metrics=['accuracy'])\n",
        "    return model\n",
        "\n",
        "def create_gru():\n",
        "    model = Sequential([GRU(32), Dense(1, activation='sigmoid')])\n",
        "    model.compile(loss='binary_crossentropy', optimizer='adam', metrics=['accuracy'])\n",
        "    return model\n",
        "\n",
        "def create_lstm():\n",
        "    model = Sequential([LSTM(32), Dense(1, activation='sigmoid')])\n",
        "    model.compile(loss='binary_crossentropy', optimizer='adam', metrics=['accuracy'])\n",
        "    return model\n",
        "\n",
        "def create_dnn():\n",
        "    model = Sequential([Flatten(input_shape=(149, 47)),\n",
        "    Dense(128, activation='relu'),\n",
        "    Dense(1, activation='sigmoid')\n",
        "])\n",
        "    model.compile(loss='binary_crossentropy', optimizer='adam', metrics=['accuracy'])\n",
        "    return model\n",
        "\n",
        "keras_models = [\n",
        "    ('RNN', KerasClassifier(build_fn=create_rnn, epochs=10, verbose=0)),\n",
        "    ('GRU', KerasClassifier(build_fn=create_gru, epochs=10, verbose=0)),\n",
        "    ('LSTM', KerasClassifier(build_fn=create_lstm, epochs=10, verbose=0)),\n",
        "    ('DNN', KerasClassifier(build_fn=create_dnn, epochs=10, verbose=0))\n",
        "]\n",
        "\n",
        "# Loop over Keras models, train the model, and evaluate the model\n",
        "for name, model in keras_models:\n",
        "    model.fit(data, target)\n",
        "    y_pred = (model.predict(data) > 0.5).astype(\"int32\")\n",
        "    acc = accuracy_score(target, y_pred)\n",
        "    print(name, acc)\n"
      ],
      "metadata": {
        "colab": {
          "base_uri": "https://localhost:8080/"
        },
        "id": "XTjnBadL9wY4",
        "outputId": "8b8074ea-33ff-4796-8d2e-94667a2dadd5"
      },
      "execution_count": null,
      "outputs": [
        {
          "output_type": "stream",
          "name": "stderr",
          "text": [
            "/usr/local/lib/python3.9/dist-packages/sklearn/linear_model/_logistic.py:458: ConvergenceWarning: lbfgs failed to converge (status=1):\n",
            "STOP: TOTAL NO. of ITERATIONS REACHED LIMIT.\n",
            "\n",
            "Increase the number of iterations (max_iter) or scale the data as shown in:\n",
            "    https://scikit-learn.org/stable/modules/preprocessing.html\n",
            "Please also refer to the documentation for alternative solver options:\n",
            "    https://scikit-learn.org/stable/modules/linear_model.html#logistic-regression\n",
            "  n_iter_i = _check_optimize_result(\n"
          ]
        },
        {
          "output_type": "stream",
          "name": "stdout",
          "text": [
            "Linear Regression 1.0\n",
            "Decision Tree 1.0\n",
            "SVM 0.8979591836734694\n"
          ]
        },
        {
          "output_type": "stream",
          "name": "stderr",
          "text": [
            "<ipython-input-43-af5363848e22>:53: DeprecationWarning: KerasClassifier is deprecated, use Sci-Keras (https://github.com/adriangb/scikeras) instead. See https://www.adriangb.com/scikeras/stable/migration.html for help migrating.\n",
            "  ('RNN', KerasClassifier(build_fn=create_rnn, epochs=10, verbose=0)),\n",
            "<ipython-input-43-af5363848e22>:54: DeprecationWarning: KerasClassifier is deprecated, use Sci-Keras (https://github.com/adriangb/scikeras) instead. See https://www.adriangb.com/scikeras/stable/migration.html for help migrating.\n",
            "  ('GRU', KerasClassifier(build_fn=create_gru, epochs=10, verbose=0)),\n",
            "<ipython-input-43-af5363848e22>:55: DeprecationWarning: KerasClassifier is deprecated, use Sci-Keras (https://github.com/adriangb/scikeras) instead. See https://www.adriangb.com/scikeras/stable/migration.html for help migrating.\n",
            "  ('LSTM', KerasClassifier(build_fn=create_lstm, epochs=10, verbose=0)),\n",
            "<ipython-input-43-af5363848e22>:56: DeprecationWarning: KerasClassifier is deprecated, use Sci-Keras (https://github.com/adriangb/scikeras) instead. See https://www.adriangb.com/scikeras/stable/migration.html for help migrating.\n",
            "  ('DNN', KerasClassifier(build_fn=create_dnn, epochs=10, verbose=0))\n",
            "WARNING:tensorflow:5 out of the last 5 calls to <function Model.make_predict_function.<locals>.predict_function at 0x7f138cd38a60> triggered tf.function retracing. Tracing is expensive and the excessive number of tracings could be due to (1) creating @tf.function repeatedly in a loop, (2) passing tensors with different shapes, (3) passing Python objects instead of tensors. For (1), please define your @tf.function outside of the loop. For (2), @tf.function has reduce_retracing=True option that can avoid unnecessary retracing. For (3), please refer to https://www.tensorflow.org/guide/function#controlling_retracing and https://www.tensorflow.org/api_docs/python/tf/function for  more details.\n"
          ]
        },
        {
          "output_type": "stream",
          "name": "stdout",
          "text": [
            "4/4 [==============================] - 0s 11ms/step\n",
            "RNN 0.6938775510204082\n"
          ]
        },
        {
          "output_type": "stream",
          "name": "stderr",
          "text": [
            "WARNING:tensorflow:6 out of the last 9 calls to <function Model.make_predict_function.<locals>.predict_function at 0x7f138ca150d0> triggered tf.function retracing. Tracing is expensive and the excessive number of tracings could be due to (1) creating @tf.function repeatedly in a loop, (2) passing tensors with different shapes, (3) passing Python objects instead of tensors. For (1), please define your @tf.function outside of the loop. For (2), @tf.function has reduce_retracing=True option that can avoid unnecessary retracing. For (3), please refer to https://www.tensorflow.org/guide/function#controlling_retracing and https://www.tensorflow.org/api_docs/python/tf/function for  more details.\n"
          ]
        },
        {
          "output_type": "stream",
          "name": "stdout",
          "text": [
            "4/4 [==============================] - 1s 25ms/step\n",
            "GRU 0.8367346938775511\n",
            "4/4 [==============================] - 1s 20ms/step\n",
            "LSTM 0.7755102040816326\n",
            "4/4 [==============================] - 0s 4ms/step\n",
            "DNN 1.0\n"
          ]
        }
      ]
    },
    {
      "cell_type": "code",
      "source": [
        "# test with more complex models \n",
        "\n",
        "def create_rnn():\n",
        "    model = Sequential([\n",
        "        SimpleRNN(64, return_sequences=True),\n",
        "        Dropout(0.2),\n",
        "        SimpleRNN(32),\n",
        "        Dense(1, activation='sigmoid')\n",
        "    ])\n",
        "    model.compile(loss='binary_crossentropy', optimizer='adam', metrics=['accuracy'])\n",
        "    return model\n",
        "\n",
        "def create_gru():\n",
        "    model = Sequential([\n",
        "        GRU(64, return_sequences=True),\n",
        "        Dropout(0.2),\n",
        "        GRU(32),\n",
        "        Dense(1, activation='sigmoid')\n",
        "    ])\n",
        "    model.compile(loss='binary_crossentropy', optimizer='adam', metrics=['accuracy'])\n",
        "    return model\n",
        "\n",
        "def create_lstm():\n",
        "    model = Sequential([\n",
        "        LSTM(64, return_sequences=True),\n",
        "        Dropout(0.2),\n",
        "        LSTM(32),\n",
        "        Dense(1, activation='sigmoid')\n",
        "    ])\n",
        "    model.compile(loss='binary_crossentropy', optimizer='adam', metrics=['accuracy'])\n",
        "    return model\n",
        "\n",
        "def create_dnn():\n",
        "    model = Sequential([\n",
        "        Flatten(input_shape=(149, 47)),\n",
        "        Dense(256, activation='relu'),\n",
        "        Dropout(0.2),\n",
        "        Dense(128, activation='relu'),\n",
        "        Dropout(0.2),\n",
        "        Dense(64, activation='relu'),\n",
        "        Dense(1, activation='sigmoid')\n",
        "    ])\n",
        "    model.compile(loss='binary_crossentropy', optimizer='adam', metrics=['accuracy'])\n",
        "    return model\n",
        "\n",
        "keras_models = [\n",
        "    ('RNN', KerasClassifier(build_fn=create_rnn, epochs=10, verbose=0)),\n",
        "    ('GRU', KerasClassifier(build_fn=create_gru, epochs=10, verbose=0)),\n",
        "    ('LSTM', KerasClassifier(build_fn=create_lstm, epochs=10, verbose=0)),\n",
        "    ('DNN', KerasClassifier(build_fn=create_dnn, epochs=10, verbose=0))\n",
        "]\n",
        "\n",
        "# Loop over Keras models, train the model, and evaluate the model\n",
        "for name, model in keras_models:\n",
        "    model.fit(data, target)\n",
        "    y_pred = (model.predict(data) > 0.5).astype(\"int32\")\n",
        "    acc = accuracy_score(target, y_pred)\n",
        "    print(name, acc)\n"
      ],
      "metadata": {
        "colab": {
          "base_uri": "https://localhost:8080/"
        },
        "id": "wd2llG5AEoS2",
        "outputId": "45720a20-30eb-47cf-8f04-4c24ecab36cf"
      },
      "execution_count": null,
      "outputs": [
        {
          "output_type": "stream",
          "name": "stderr",
          "text": [
            "<ipython-input-44-e505dcd6c917>:47: DeprecationWarning: KerasClassifier is deprecated, use Sci-Keras (https://github.com/adriangb/scikeras) instead. See https://www.adriangb.com/scikeras/stable/migration.html for help migrating.\n",
            "  ('RNN', KerasClassifier(build_fn=create_rnn, epochs=10, verbose=0)),\n",
            "<ipython-input-44-e505dcd6c917>:48: DeprecationWarning: KerasClassifier is deprecated, use Sci-Keras (https://github.com/adriangb/scikeras) instead. See https://www.adriangb.com/scikeras/stable/migration.html for help migrating.\n",
            "  ('GRU', KerasClassifier(build_fn=create_gru, epochs=10, verbose=0)),\n",
            "<ipython-input-44-e505dcd6c917>:49: DeprecationWarning: KerasClassifier is deprecated, use Sci-Keras (https://github.com/adriangb/scikeras) instead. See https://www.adriangb.com/scikeras/stable/migration.html for help migrating.\n",
            "  ('LSTM', KerasClassifier(build_fn=create_lstm, epochs=10, verbose=0)),\n",
            "<ipython-input-44-e505dcd6c917>:50: DeprecationWarning: KerasClassifier is deprecated, use Sci-Keras (https://github.com/adriangb/scikeras) instead. See https://www.adriangb.com/scikeras/stable/migration.html for help migrating.\n",
            "  ('DNN', KerasClassifier(build_fn=create_dnn, epochs=10, verbose=0))\n"
          ]
        },
        {
          "output_type": "stream",
          "name": "stdout",
          "text": [
            "4/4 [==============================] - 0s 19ms/step\n",
            "RNN 0.8061224489795918\n",
            "4/4 [==============================] - 1s 54ms/step\n",
            "GRU 0.9489795918367347\n",
            "4/4 [==============================] - 1s 31ms/step\n",
            "LSTM 0.9387755102040817\n",
            "4/4 [==============================] - 0s 14ms/step\n",
            "DNN 0.9285714285714286\n"
          ]
        }
      ]
    },
    {
      "cell_type": "code",
      "source": [
        "# logreg = LogisticRegression(max_iter=1000)\n",
        "\n",
        "# param_grid = {\n",
        "#     'penalty': ['l1', 'l2'],\n",
        "#     'C': [0.001, 0.01, 0.1, 1, 10, 100, 1000]\n",
        "# }\n",
        "\n",
        "# grid_search = GridSearchCV(logreg, param_grid, cv=5)\n",
        "# grid_search.fit(data, target)\n",
        "# logreg_best = grid_search.best_estimator_\n",
        "\n",
        "\n",
        "# dt = DecisionTreeClassifier()\n",
        "\n",
        "# param_grid = {\n",
        "#     'criterion': ['gini', 'entropy'],\n",
        "#     'max_depth': [2, 3, 4, 5, 6, 7, 8, 9, 10],\n",
        "#     'min_samples_split': [2, 3, 4, 5, 6, 7, 8, 9, 10],\n",
        "#     'min_samples_leaf': [1, 2, 3, 4, 5, 6, 7, 8, 9, 10]\n",
        "# }\n",
        "\n",
        "# grid_search = GridSearchCV(dt, param_grid, cv=5)\n",
        "# grid_search.fit(data, target)\n",
        "# dt_best = grid_search.best_estimator_\n",
        "\n",
        "\n",
        "# svm = SVC(probability=True)\n",
        "\n",
        "# param_grid = {\n",
        "#     'C': [0.001, 0.01, 0.1, 1, 10, 100, 1000],\n",
        "#     'kernel': ['linear', 'poly', 'rbf', 'sigmoid'],\n",
        "#     'degree': [2, 3, 4, 5, 6],\n",
        "#     'gamma': ['scale', 'auto'] + list(np.logspace(-3, 3, 7))\n",
        "# }\n",
        "\n",
        "# grid_search = GridSearchCV(svm, param_grid, cv=5)\n",
        "# grid_search.fit(data, target)\n",
        "# svm_best = grid_search.best_estimator_\n"
      ],
      "metadata": {
        "id": "EZNwo2yaGA7o"
      },
      "execution_count": null,
      "outputs": []
    },
    {
      "cell_type": "markdown",
      "source": [
        "## Split into Train/Test"
      ],
      "metadata": {
        "id": "SJskkxl38i1p"
      }
    },
    {
      "cell_type": "code",
      "source": [
        "import numpy as np\n",
        "from sklearn.model_selection import train_test_split\n",
        "\n",
        "\n",
        "X_train, X_test, y_train, y_test = train_test_split(data, target, test_size=0.2, random_state=42)\n",
        "\n",
        "print(\"Training set shape:\", X_train.shape)\n",
        "print(\"Testing set shape:\", X_test.shape)"
      ],
      "metadata": {
        "colab": {
          "base_uri": "https://localhost:8080/"
        },
        "id": "Sa7K4b-B8w17",
        "outputId": "da89ce4e-9099-47c0-c7a3-3601efbd6e89"
      },
      "execution_count": 6,
      "outputs": [
        {
          "output_type": "stream",
          "name": "stdout",
          "text": [
            "Training set shape: (78, 149, 47)\n",
            "Testing set shape: (20, 149, 47)\n"
          ]
        }
      ]
    },
    {
      "cell_type": "code",
      "source": [],
      "metadata": {
        "id": "mcFPdq0m825J"
      },
      "execution_count": null,
      "outputs": []
    },
    {
      "cell_type": "code",
      "source": [
        "import numpy as np\n",
        "from sklearn.linear_model import LogisticRegression\n",
        "from sklearn.tree import DecisionTreeClassifier\n",
        "from sklearn.svm import SVC\n",
        "from keras.models import Sequential\n",
        "from keras.layers import Dense, LSTM, GRU, SimpleRNN, Flatten,Dropout\n",
        "from keras.wrappers.scikit_learn import KerasClassifier\n",
        "from sklearn.metrics import accuracy_score\n",
        "\n",
        "# Generate a dataset of 20 samples of (149,47) fictive data\n",
        "# data = np.random.rand(20, 149, 47)\n",
        "# target = np.random.randint(0, 2, size=(20,))\n",
        "\n",
        "# Define the Scikit-learn models to be tested\n",
        "scikit_models = [\n",
        "    ('Linear Regression', LogisticRegression()),\n",
        "    ('Decision Tree', DecisionTreeClassifier()),\n",
        "    ('SVM', SVC())\n",
        "]\n",
        "\n",
        "# Loop over Scikit-learn models, train the model, and evaluate the model\n",
        "for name, model in scikit_models:\n",
        "    model.fit(X_train.reshape(78, -1), y_train)\n",
        "    y_pred = model.predict(X_train.reshape(78, -1))\n",
        "    acc = accuracy_score(y_train, y_pred)\n",
        "    print(name, acc)\n",
        "\n",
        "# Define the Keras models to be tested\n",
        "def create_rnn():\n",
        "    model = Sequential([SimpleRNN(32), Dense(1, activation='sigmoid')])\n",
        "    model.compile(loss='binary_crossentropy', optimizer='adam', metrics=['accuracy'])\n",
        "    return model\n",
        "\n",
        "def create_gru():\n",
        "    model = Sequential([GRU(32), Dense(1, activation='sigmoid')])\n",
        "    model.compile(loss='binary_crossentropy', optimizer='adam', metrics=['accuracy'])\n",
        "    return model\n",
        "\n",
        "def create_lstm():\n",
        "    model = Sequential([LSTM(32), Dense(1, activation='sigmoid')])\n",
        "    model.compile(loss='binary_crossentropy', optimizer='adam', metrics=['accuracy'])\n",
        "    return model\n",
        "\n",
        "def create_dnn():\n",
        "    model = Sequential([Flatten(input_shape=(149, 47)),\n",
        "    Dense(128, activation='relu'),\n",
        "    Dense(1, activation='sigmoid')\n",
        "])\n",
        "    model.compile(loss='binary_crossentropy', optimizer='adam', metrics=['accuracy'])\n",
        "    return model\n",
        "\n",
        "keras_models = [\n",
        "    ('RNN', KerasClassifier(build_fn=create_rnn, epochs=10, verbose=0)),\n",
        "    ('GRU', KerasClassifier(build_fn=create_gru, epochs=10, verbose=0)),\n",
        "    ('LSTM', KerasClassifier(build_fn=create_lstm, epochs=10, verbose=0)),\n",
        "    ('DNN', KerasClassifier(build_fn=create_dnn, epochs=10, verbose=0))\n",
        "]\n",
        "\n",
        "# Loop over Keras models, train the model, and evaluate the model\n",
        "for name, model in keras_models:\n",
        "    model.fit(X_train, y_train)\n",
        "    y_pred = (model.predict(X_train) > 0.5).astype(\"int32\")\n",
        "    acc = accuracy_score(y_train, y_pred)\n",
        "    print(name, acc)\n"
      ],
      "metadata": {
        "colab": {
          "base_uri": "https://localhost:8080/"
        },
        "outputId": "cc72433f-981d-421b-86a2-6dc563d7a9d5",
        "id": "6GxhKvTD8xCo"
      },
      "execution_count": 7,
      "outputs": [
        {
          "output_type": "stream",
          "name": "stderr",
          "text": [
            "/usr/local/lib/python3.9/dist-packages/sklearn/linear_model/_logistic.py:458: ConvergenceWarning: lbfgs failed to converge (status=1):\n",
            "STOP: TOTAL NO. of ITERATIONS REACHED LIMIT.\n",
            "\n",
            "Increase the number of iterations (max_iter) or scale the data as shown in:\n",
            "    https://scikit-learn.org/stable/modules/preprocessing.html\n",
            "Please also refer to the documentation for alternative solver options:\n",
            "    https://scikit-learn.org/stable/modules/linear_model.html#logistic-regression\n",
            "  n_iter_i = _check_optimize_result(\n",
            "<ipython-input-7-e6dbcb394f0e>:53: DeprecationWarning: KerasClassifier is deprecated, use Sci-Keras (https://github.com/adriangb/scikeras) instead. See https://www.adriangb.com/scikeras/stable/migration.html for help migrating.\n",
            "  ('RNN', KerasClassifier(build_fn=create_rnn, epochs=10, verbose=0)),\n",
            "<ipython-input-7-e6dbcb394f0e>:54: DeprecationWarning: KerasClassifier is deprecated, use Sci-Keras (https://github.com/adriangb/scikeras) instead. See https://www.adriangb.com/scikeras/stable/migration.html for help migrating.\n",
            "  ('GRU', KerasClassifier(build_fn=create_gru, epochs=10, verbose=0)),\n",
            "<ipython-input-7-e6dbcb394f0e>:55: DeprecationWarning: KerasClassifier is deprecated, use Sci-Keras (https://github.com/adriangb/scikeras) instead. See https://www.adriangb.com/scikeras/stable/migration.html for help migrating.\n",
            "  ('LSTM', KerasClassifier(build_fn=create_lstm, epochs=10, verbose=0)),\n",
            "<ipython-input-7-e6dbcb394f0e>:56: DeprecationWarning: KerasClassifier is deprecated, use Sci-Keras (https://github.com/adriangb/scikeras) instead. See https://www.adriangb.com/scikeras/stable/migration.html for help migrating.\n",
            "  ('DNN', KerasClassifier(build_fn=create_dnn, epochs=10, verbose=0))\n"
          ]
        },
        {
          "output_type": "stream",
          "name": "stdout",
          "text": [
            "Linear Regression 1.0\n",
            "Decision Tree 1.0\n",
            "SVM 0.9102564102564102\n",
            "3/3 [==============================] - 0s 11ms/step\n",
            "RNN 0.8205128205128205\n",
            "3/3 [==============================] - 1s 16ms/step\n",
            "GRU 0.7435897435897436\n",
            "3/3 [==============================] - 0s 17ms/step\n",
            "LSTM 0.8076923076923077\n",
            "3/3 [==============================] - 0s 10ms/step\n",
            "DNN 0.9871794871794872\n"
          ]
        }
      ]
    },
    {
      "cell_type": "code",
      "source": [
        "#testing:\n",
        "import seaborn as sns\n",
        "import matplotlib.pyplot as plt\n",
        "\n",
        "from sklearn.metrics import confusion_matrix\n",
        "\n",
        "for name, model in scikit_models:\n",
        "    y_pred = model.predict(X_test.reshape(20, -1))\n",
        "    acc = accuracy_score(y_test, y_pred)\n",
        "    print(name, acc)\n",
        "    result = confusion_matrix(y_test, y_pred)\n",
        "    sns.heatmap(result, annot=True)\n",
        "    plt.show()\n",
        "\n",
        "\n",
        "\n",
        "\n",
        "for name, model in keras_models:\n",
        "    #model.fit(data, target)\n",
        "    y_pred = (model.predict(X_test) > 0.5).astype(\"int32\")\n",
        "    acc = accuracy_score(y_test, y_pred)\n",
        "    print(name, acc)\n",
        "    result = confusion_matrix(y_test, y_pred)\n",
        "    sns.heatmap(result, annot=True)\n",
        "    plt.show()"
      ],
      "metadata": {
        "colab": {
          "base_uri": "https://localhost:8080/",
          "height": 1000
        },
        "id": "nbGAr10B9lGs",
        "outputId": "2f3138b0-5b17-466d-82cb-1d01006497c2"
      },
      "execution_count": 16,
      "outputs": [
        {
          "output_type": "stream",
          "name": "stdout",
          "text": [
            "Linear Regression 0.6\n",
            "[[5 1]\n",
            " [7 7]]\n"
          ]
        },
        {
          "output_type": "display_data",
          "data": {
            "text/plain": [
              "<Figure size 432x288 with 2 Axes>"
            ],
            "image/png": "[encoded data removed]"
          },
          "metadata": {
            "needs_background": "light"
          }
        },
        {
          "output_type": "stream",
          "name": "stdout",
          "text": [
            "Decision Tree 0.7\n",
            "[[ 4  2]\n",
            " [ 4 10]]\n"
          ]
        },
        {
          "output_type": "display_data",
          "data": {
            "text/plain": [
              "<Figure size 432x288 with 2 Axes>"
            ],
            "image/png": "[encoded data removed]"
          },
          "metadata": {
            "needs_background": "light"
          }
        },
        {
          "output_type": "stream",
          "name": "stdout",
          "text": [
            "SVM 0.55\n",
            "[[5 1]\n",
            " [8 6]]\n"
          ]
        },
        {
          "output_type": "display_data",
          "data": {
            "text/plain": [
              "<Figure size 432x288 with 2 Axes>"
            ],
            "image/png": "[encoded data removed]"
          },
          "metadata": {
            "needs_background": "light"
          }
        },
        {
          "output_type": "stream",
          "name": "stdout",
          "text": [
            "1/1 [==============================] - 0s 38ms/step\n",
            "RNN 0.35\n",
            "[[ 4  2]\n",
            " [11  3]]\n"
          ]
        },
        {
          "output_type": "display_data",
          "data": {
            "text/plain": [
              "<Figure size 432x288 with 2 Axes>"
            ],
            "image/png": "[encoded data removed]"
          },
          "metadata": {
            "needs_background": "light"
          }
        },
        {
          "output_type": "stream",
          "name": "stdout",
          "text": [
            "1/1 [==============================] - 0s 41ms/step\n",
            "GRU 0.25\n",
            "[[ 3  3]\n",
            " [12  2]]\n"
          ]
        },
        {
          "output_type": "display_data",
          "data": {
            "text/plain": [
              "<Figure size 432x288 with 2 Axes>"
            ],
            "image/png": "[encoded data removed]"
          },
          "metadata": {
            "needs_background": "light"
          }
        },
        {
          "output_type": "stream",
          "name": "stdout",
          "text": [
            "1/1 [==============================] - 0s 43ms/step\n",
            "LSTM 0.65\n",
            "[[ 3  3]\n",
            " [ 4 10]]\n"
          ]
        },
        {
          "output_type": "display_data",
          "data": {
            "text/plain": [
              "<Figure size 432x288 with 2 Axes>"
            ],
            "image/png": "[encoded data removed]"
          },
          "metadata": {
            "needs_background": "light"
          }
        },
        {
          "output_type": "stream",
          "name": "stdout",
          "text": [
            "1/1 [==============================] - 0s 28ms/step\n",
            "DNN 0.7\n",
            "[[5 1]\n",
            " [5 9]]\n"
          ]
        },
        {
          "output_type": "display_data",
          "data": {
            "text/plain": [
              "<Figure size 432x288 with 2 Axes>"
            ],
            "image/png": "[encoded data removed]"
          },
          "metadata": {
            "needs_background": "light"
          }
        }
      ]
    },
    {
      "cell_type": "code",
      "source": [
        "# test with more complex models \n",
        "\n",
        "def create_rnn():\n",
        "    model = Sequential([\n",
        "        SimpleRNN(64, return_sequences=True),\n",
        "        Dropout(0.2),\n",
        "        SimpleRNN(32),\n",
        "        Dense(1, activation='sigmoid')\n",
        "    ])\n",
        "    model.compile(loss='binary_crossentropy', optimizer='adam', metrics=['accuracy'])\n",
        "    return model\n",
        "\n",
        "def create_gru():\n",
        "    model = Sequential([\n",
        "        GRU(64, return_sequences=True),\n",
        "        Dropout(0.2),\n",
        "        GRU(32),\n",
        "        Dense(1, activation='sigmoid')\n",
        "    ])\n",
        "    model.compile(loss='binary_crossentropy', optimizer='adam', metrics=['accuracy'])\n",
        "    return model\n",
        "\n",
        "def create_lstm():\n",
        "    model = Sequential([\n",
        "        LSTM(64, return_sequences=True),\n",
        "        Dropout(0.2),\n",
        "        LSTM(32),\n",
        "        Dense(1, activation='sigmoid')\n",
        "    ])\n",
        "    model.compile(loss='binary_crossentropy', optimizer='adam', metrics=['accuracy'])\n",
        "    return model\n",
        "\n",
        "def create_dnn():\n",
        "    model = Sequential([\n",
        "        Flatten(input_shape=(149, 47)),\n",
        "        Dense(256, activation='relu'),\n",
        "        Dropout(0.2),\n",
        "        Dense(128, activation='relu'),\n",
        "        Dropout(0.2),\n",
        "        Dense(64, activation='relu'),\n",
        "        Dense(1, activation='sigmoid')\n",
        "    ])\n",
        "    model.compile(loss='binary_crossentropy', optimizer='adam', metrics=['accuracy'])\n",
        "    return model\n",
        "\n",
        "keras_models = [\n",
        "    ('RNN', KerasClassifier(build_fn=create_rnn, epochs=10, verbose=0)),\n",
        "    ('GRU', KerasClassifier(build_fn=create_gru, epochs=10, verbose=0)),\n",
        "    ('LSTM', KerasClassifier(build_fn=create_lstm, epochs=10, verbose=0)),\n",
        "    ('DNN', KerasClassifier(build_fn=create_dnn, epochs=10, verbose=0))\n",
        "]\n",
        "\n",
        "# Loop over Keras models, train the model, and evaluate the model\n",
        "for name, model in keras_models:\n",
        "    model.fit(X_train, y_train)\n",
        "    y_pred = (model.predict(X_train) > 0.5).astype(\"int32\")\n",
        "    acc = accuracy_score(y_train, y_pred)\n",
        "    print(name, acc)\n",
        "    \n"
      ],
      "metadata": {
        "colab": {
          "base_uri": "https://localhost:8080/"
        },
        "outputId": "418c3a39-ba0f-4a39-e1c6-1c5f32d225b0",
        "id": "516Ojmrj8xCr"
      },
      "execution_count": 21,
      "outputs": [
        {
          "output_type": "stream",
          "name": "stderr",
          "text": [
            "<ipython-input-21-95c797b89e2d>:47: DeprecationWarning: KerasClassifier is deprecated, use Sci-Keras (https://github.com/adriangb/scikeras) instead. See https://www.adriangb.com/scikeras/stable/migration.html for help migrating.\n",
            "  ('RNN', KerasClassifier(build_fn=create_rnn, epochs=10, verbose=0)),\n",
            "<ipython-input-21-95c797b89e2d>:48: DeprecationWarning: KerasClassifier is deprecated, use Sci-Keras (https://github.com/adriangb/scikeras) instead. See https://www.adriangb.com/scikeras/stable/migration.html for help migrating.\n",
            "  ('GRU', KerasClassifier(build_fn=create_gru, epochs=10, verbose=0)),\n",
            "<ipython-input-21-95c797b89e2d>:49: DeprecationWarning: KerasClassifier is deprecated, use Sci-Keras (https://github.com/adriangb/scikeras) instead. See https://www.adriangb.com/scikeras/stable/migration.html for help migrating.\n",
            "  ('LSTM', KerasClassifier(build_fn=create_lstm, epochs=10, verbose=0)),\n",
            "<ipython-input-21-95c797b89e2d>:50: DeprecationWarning: KerasClassifier is deprecated, use Sci-Keras (https://github.com/adriangb/scikeras) instead. See https://www.adriangb.com/scikeras/stable/migration.html for help migrating.\n",
            "  ('DNN', KerasClassifier(build_fn=create_dnn, epochs=10, verbose=0))\n"
          ]
        },
        {
          "output_type": "stream",
          "name": "stdout",
          "text": [
            "3/3 [==============================] - 0s 23ms/step\n",
            "RNN 0.8974358974358975\n",
            "3/3 [==============================] - 1s 40ms/step\n",
            "GRU 0.9615384615384616\n",
            "3/3 [==============================] - 1s 38ms/step\n",
            "LSTM 0.9487179487179487\n",
            "3/3 [==============================] - 0s 14ms/step\n",
            "DNN 0.9871794871794872\n"
          ]
        }
      ]
    },
    {
      "cell_type": "code",
      "source": [
        "for name, model in keras_models:\n",
        "    y_pred = (model.predict(X_test) > 0.5).astype(\"int32\")\n",
        "    acc = accuracy_score(y_test, y_pred)\n",
        "    print(name, acc)\n",
        "    result = confusion_matrix(y_test, y_pred)\n",
        "    sns.heatmap(result, annot=True)\n",
        "    plt.show()"
      ],
      "metadata": {
        "colab": {
          "base_uri": "https://localhost:8080/",
          "height": 1000
        },
        "id": "f8dU6j-SA25M",
        "outputId": "82b76fd5-df65-4101-b6af-6f5f7e65cedc"
      },
      "execution_count": 22,
      "outputs": [
        {
          "output_type": "stream",
          "name": "stdout",
          "text": [
            "1/1 [==============================] - 0s 55ms/step\n",
            "RNN 0.65\n"
          ]
        },
        {
          "output_type": "display_data",
          "data": {
            "text/plain": [
              "<Figure size 432x288 with 2 Axes>"
            ],
            "image/png": "[encoded data removed]"
          },
          "metadata": {
            "needs_background": "light"
          }
        },
        {
          "output_type": "stream",
          "name": "stdout",
          "text": [
            "1/1 [==============================] - 0s 53ms/step\n",
            "GRU 0.7\n"
          ]
        },
        {
          "output_type": "display_data",
          "data": {
            "text/plain": [
              "<Figure size 432x288 with 2 Axes>"
            ],
            "image/png": "[encoded data removed]"
          },
          "metadata": {
            "needs_background": "light"
          }
        },
        {
          "output_type": "stream",
          "name": "stdout",
          "text": [
            "1/1 [==============================] - 0s 53ms/step\n",
            "LSTM 0.8\n"
          ]
        },
        {
          "output_type": "display_data",
          "data": {
            "text/plain": [
              "<Figure size 432x288 with 2 Axes>"
            ],
            "image/png": "[encoded data removed]"
          },
          "metadata": {
            "needs_background": "light"
          }
        },
        {
          "output_type": "stream",
          "name": "stdout",
          "text": [
            "1/1 [==============================] - 0s 25ms/step\n",
            "DNN 0.7\n"
          ]
        },
        {
          "output_type": "display_data",
          "data": {
            "text/plain": [
              "<Figure size 432x288 with 2 Axes>"
            ],
            "image/png": "[encoded data removed]"
          },
          "metadata": {
            "needs_background": "light"
          }
        }
      ]
    },
    {
      "cell_type": "markdown",
      "source": [
        "## Kfold"
      ],
      "metadata": {
        "id": "zEf8OMcR8IcG"
      }
    },
    {
      "cell_type": "code",
      "source": [
        "import numpy as np\n",
        "from sklearn.linear_model import LogisticRegression\n",
        "from sklearn.tree import DecisionTreeClassifier\n",
        "from sklearn.ensemble import RandomForestClassifier\n",
        "\n",
        "from sklearn.svm import SVC\n",
        "from keras.models import Sequential\n",
        "from keras.layers import Dense, LSTM, GRU, SimpleRNN, Flatten,Dropout\n",
        "from keras.wrappers.scikit_learn import KerasClassifier\n",
        "from sklearn.metrics import accuracy_score\n",
        "from sklearn.model_selection import cross_val_score\n",
        "\n",
        "# Generate a dataset of 20 samples of (149,47) fictive data\n",
        "# data = np.random.rand(20, 149, 47)\n",
        "# target = np.random.randint(0, 2, size=(20,))\n",
        "\n",
        "# Define the Scikit-learn models to be tested\n",
        "scikit_models = [\n",
        "    ('Linear Regression', LogisticRegression()),\n",
        "    ('Decision Tree', DecisionTreeClassifier()),\n",
        "    ('SVM', SVC()),\n",
        "    ('RandomForest', RandomForestClassifier())\n",
        "]\n",
        "\n",
        "# Loop over Scikit-learn models, train the model, and evaluate the model using 10-fold cross-validation\n",
        "for name, model in scikit_models:\n",
        "    scores = cross_val_score(model, data.reshape(98, -1), target, cv=10)\n",
        "    print(name,scores)\n",
        "    print(name, \"Accuracy:\", scores.mean())\n",
        "\n",
        "\n",
        "# Loop over Scikit-learn models, train the model, and evaluate the model\n",
        "# for name, model in scikit_models:\n",
        "#     model.fit(data.reshape(98, -1), target)\n",
        "#     y_pred = model.predict(data.reshape(98, -1))\n",
        "#     acc = accuracy_score(target, y_pred)\n",
        "#     print(name, acc)\n",
        "\n",
        "# Define the Keras models to be tested\n",
        "def create_rnn():\n",
        "    model = Sequential([SimpleRNN(32), Dense(1, activation='sigmoid')])\n",
        "    model.compile(loss='binary_crossentropy', optimizer='adam', metrics=['accuracy'])\n",
        "    return model\n",
        "\n",
        "def create_gru():\n",
        "    model = Sequential([GRU(32), Dense(1, activation='sigmoid')])\n",
        "    model.compile(loss='binary_crossentropy', optimizer='adam', metrics=['accuracy'])\n",
        "    return model\n",
        "\n",
        "def create_lstm():\n",
        "    model = Sequential([LSTM(32), Dense(1, activation='sigmoid')])\n",
        "    model.compile(loss='binary_crossentropy', optimizer='adam', metrics=['accuracy'])\n",
        "    return model\n",
        "\n",
        "def create_dnn():\n",
        "    model = Sequential([Flatten(input_shape=(149, 47)),\n",
        "    Dense(128, activation='relu'),\n",
        "    Dense(1, activation='sigmoid')\n",
        "])\n",
        "    model.compile(loss='binary_crossentropy', optimizer='adam', metrics=['accuracy'])\n",
        "    return model\n",
        "\n",
        "keras_models = [\n",
        "    ('RNN', KerasClassifier(build_fn=create_rnn, epochs=10, verbose=0)),\n",
        "    ('GRU', KerasClassifier(build_fn=create_gru, epochs=10, verbose=0)),\n",
        "    ('LSTM', KerasClassifier(build_fn=create_lstm, epochs=10, verbose=0)),\n",
        "    ('DNN', KerasClassifier(build_fn=create_dnn, epochs=10, verbose=0))\n",
        "]\n",
        "\n",
        "\n",
        "# Loop over Keras models, train the model, and evaluate the model using 10-fold cross-validation\n",
        "for name, model in keras_models:\n",
        "    scores = cross_val_score(model, data, target, cv=10)\n",
        "    print(name,scores)\n",
        "    print(name, \"Accuracy:\", scores.mean())"
      ],
      "metadata": {
        "id": "sSRieSvg9Z1Y"
      },
      "execution_count": null,
      "outputs": []
    },
    {
      "cell_type": "code",
      "source": [
        "# test with more complex models \n",
        "\n",
        "def create_rnn():\n",
        "    model = Sequential([\n",
        "        SimpleRNN(64, return_sequences=True),\n",
        "        Dropout(0.2),\n",
        "        SimpleRNN(32),\n",
        "        Dense(1, activation='sigmoid')\n",
        "    ])\n",
        "    model.compile(loss='binary_crossentropy', optimizer='adam', metrics=['accuracy'])\n",
        "    return model\n",
        "\n",
        "def create_gru():\n",
        "    model = Sequential([\n",
        "        GRU(64, return_sequences=True),\n",
        "        Dropout(0.2),\n",
        "        GRU(32),\n",
        "        Dense(1, activation='sigmoid')\n",
        "    ])\n",
        "    model.compile(loss='binary_crossentropy', optimizer='adam', metrics=['accuracy'])\n",
        "    return model\n",
        "\n",
        "def create_lstm():\n",
        "    model = Sequential([\n",
        "        LSTM(64, return_sequences=True),\n",
        "        Dropout(0.2),\n",
        "        LSTM(32),\n",
        "        Dense(1, activation='sigmoid')\n",
        "    ])\n",
        "    model.compile(loss='binary_crossentropy', optimizer='adam', metrics=['accuracy'])\n",
        "    return model\n",
        "\n",
        "def create_dnn():\n",
        "    model = Sequential([\n",
        "        Flatten(input_shape=(149, 47)),\n",
        "        Dense(256, activation='relu'),\n",
        "        Dropout(0.2),\n",
        "        Dense(128, activation='relu'),\n",
        "        Dropout(0.2),\n",
        "        Dense(64, activation='relu'),\n",
        "        Dense(1, activation='sigmoid')\n",
        "    ])\n",
        "    model.compile(loss='binary_crossentropy', optimizer='adam', metrics=['accuracy'])\n",
        "    return model\n",
        "\n",
        "keras_models = [\n",
        "    ('RNN', KerasClassifier(build_fn=create_rnn, epochs=10, verbose=0)),\n",
        "    ('GRU', KerasClassifier(build_fn=create_gru, epochs=10, verbose=0)),\n",
        "    ('LSTM', KerasClassifier(build_fn=create_lstm, epochs=10, verbose=0)),\n",
        "    ('DNN', KerasClassifier(build_fn=create_dnn, epochs=10, verbose=0))\n",
        "]\n",
        "\n",
        "# # Loop over Keras models, train the model, and evaluate the model\n",
        "# for name, model in keras_models:\n",
        "#     model.fit(data, target)\n",
        "#     y_pred = (model.predict(data) > 0.5).astype(\"int32\")\n",
        "#     acc = accuracy_score(target, y_pred)\n",
        "#     print(name, acc)\n",
        "    \n",
        "# Loop over Keras models, train the model, and evaluate the model using 10-fold cross-validation\n",
        "for name, model in keras_models:\n",
        "    scores = cross_val_score(model, data, target, cv=10)\n",
        "    print(name,scores)\n",
        "    print(name, \"Accuracy:\", scores.mean())"
      ],
      "metadata": {
        "colab": {
          "base_uri": "https://localhost:8080/"
        },
        "outputId": "1b5ff8f0-de74-408c-b983-f099afd0f6c7",
        "id": "azZSd1u39Z11"
      },
      "execution_count": 32,
      "outputs": [
        {
          "output_type": "stream",
          "name": "stderr",
          "text": [
            "<ipython-input-32-4f9e0a387059>:47: DeprecationWarning: KerasClassifier is deprecated, use Sci-Keras (https://github.com/adriangb/scikeras) instead. See https://www.adriangb.com/scikeras/stable/migration.html for help migrating.\n",
            "  ('RNN', KerasClassifier(build_fn=create_rnn, epochs=10, verbose=0)),\n",
            "<ipython-input-32-4f9e0a387059>:48: DeprecationWarning: KerasClassifier is deprecated, use Sci-Keras (https://github.com/adriangb/scikeras) instead. See https://www.adriangb.com/scikeras/stable/migration.html for help migrating.\n",
            "  ('GRU', KerasClassifier(build_fn=create_gru, epochs=10, verbose=0)),\n",
            "<ipython-input-32-4f9e0a387059>:49: DeprecationWarning: KerasClassifier is deprecated, use Sci-Keras (https://github.com/adriangb/scikeras) instead. See https://www.adriangb.com/scikeras/stable/migration.html for help migrating.\n",
            "  ('LSTM', KerasClassifier(build_fn=create_lstm, epochs=10, verbose=0)),\n",
            "<ipython-input-32-4f9e0a387059>:50: DeprecationWarning: KerasClassifier is deprecated, use Sci-Keras (https://github.com/adriangb/scikeras) instead. See https://www.adriangb.com/scikeras/stable/migration.html for help migrating.\n",
            "  ('DNN', KerasClassifier(build_fn=create_dnn, epochs=10, verbose=0))\n"
          ]
        },
        {
          "output_type": "stream",
          "name": "stdout",
          "text": [
            "RNN [0.5        0.80000001 0.89999998 0.69999999 0.80000001 0.60000002\n",
            " 1.         0.89999998 0.55555558 0.8888889 ]\n",
            "RNN Accuracy: 0.7644444465637207\n",
            "GRU [0.69999999 0.5        0.69999999 0.69999999 0.60000002 0.60000002\n",
            " 0.89999998 0.69999999 0.66666669 0.66666669]\n",
            "GRU Accuracy: 0.6733333349227906\n",
            "LSTM [0.89999998 0.60000002 0.69999999 0.80000001 0.60000002 0.60000002\n",
            " 1.         0.80000001 0.55555558 0.77777779]\n",
            "LSTM Accuracy: 0.7333333432674408\n",
            "DNN [0.69999999 0.40000001 0.80000001 0.69999999 0.60000002 0.60000002\n",
            " 0.40000001 0.80000001 0.55555558 0.44444445]\n",
            "DNN Accuracy: 0.6000000089406967\n"
          ]
        }
      ]
    },
    {
      "cell_type": "code",
      "source": [
        "from keras.layers.convolutional import Conv1D, MaxPooling1D\n",
        "from keras.layers import  GlobalMaxPooling1D\n",
        "\n",
        "def create_cnn():\n",
        "    model = Sequential([\n",
        "        Conv1D(64, 3, activation='relu', input_shape=(149, 47)),\n",
        "         MaxPooling1D(2),\n",
        "         Conv1D(128, 3, activation='relu'),\n",
        "         MaxPooling1D(2),\n",
        "         Conv1D(256, 3, activation='relu'),\n",
        "         GlobalMaxPooling1D(),\n",
        "         Dense(128, activation='relu'),\n",
        "         Dense(1, activation='sigmoid')\n",
        "\n",
        "    ])\n",
        "    model.compile(loss='binary_crossentropy', optimizer='adam', metrics=['accuracy'])\n",
        "    return model\n",
        "\n",
        "model=KerasClassifier(build_fn=create_cnn, epochs=10, verbose=0)\n",
        "scores = cross_val_score(model, data, target, cv=10)\n",
        "print('cnn',scores)\n",
        "print('cnn', \"Accuracy:\", scores.mean())"
      ],
      "metadata": {
        "colab": {
          "base_uri": "https://localhost:8080/"
        },
        "id": "HD3As02NKNA9",
        "outputId": "be985bb2-1b1c-4dfa-a093-eaf8510c2492"
      },
      "execution_count": 40,
      "outputs": [
        {
          "output_type": "stream",
          "name": "stderr",
          "text": [
            "<ipython-input-40-d0908f166a5f>:19: DeprecationWarning: KerasClassifier is deprecated, use Sci-Keras (https://github.com/adriangb/scikeras) instead. See https://www.adriangb.com/scikeras/stable/migration.html for help migrating.\n",
            "  model=KerasClassifier(build_fn=create_cnn, epochs=10, verbose=0)\n"
          ]
        },
        {
          "output_type": "stream",
          "name": "stdout",
          "text": [
            "cnn [0.69999999 0.69999999 0.69999999 0.69999999 0.5        0.5\n",
            " 0.69999999 0.89999998 0.44444445 0.66666669]\n",
            "DNN Accuracy: 0.6511111050844193\n"
          ]
        }
      ]
    },
    {
      "cell_type": "markdown",
      "source": [
        "## without cam data"
      ],
      "metadata": {
        "id": "Gb5-N5wwNo7D"
      }
    },
    {
      "cell_type": "code",
      "source": [
        "import numpy as np\n",
        "from sklearn.linear_model import LogisticRegression\n",
        "from sklearn.tree import DecisionTreeClassifier\n",
        "from sklearn.ensemble import RandomForestClassifier\n",
        "\n",
        "from sklearn.svm import SVC\n",
        "from keras.models import Sequential\n",
        "from keras.layers import Dense, LSTM, GRU, SimpleRNN, Flatten,Dropout\n",
        "from keras.wrappers.scikit_learn import KerasClassifier\n",
        "from sklearn.metrics import accuracy_score\n",
        "from sklearn.model_selection import cross_val_score\n",
        "\n",
        "# Generate a dataset of 20 samples of (149,47) fictive data\n",
        "# data = np.random.rand(20, 149, 47)\n",
        "# target = np.random.randint(0, 2, size=(20,))\n",
        "data_nocam=  data[:, :, :-2]\n",
        "target_nocam= target\n",
        "\n",
        "# Define the Scikit-learn models to be tested\n",
        "scikit_models = [\n",
        "    ('Linear Regression', LogisticRegression()),\n",
        "    ('Decision Tree', DecisionTreeClassifier()),\n",
        "    ('SVM', SVC()),\n",
        "    ('RandomForest', RandomForestClassifier())\n",
        "]\n",
        "\n",
        "# Loop over Scikit-learn models, train the model, and evaluate the model using 10-fold cross-validation\n",
        "for name, model in scikit_models:\n",
        "    scores = cross_val_score(model, data_nocam.reshape(98, -1), target_nocam, cv=10)\n",
        "    print(name,scores)\n",
        "    print(name, \"Accuracy:\", scores.mean())\n",
        "\n",
        "\n"
      ],
      "metadata": {
        "colab": {
          "base_uri": "https://localhost:8080/"
        },
        "outputId": "167ec6a5-98a0-44f2-dbb0-8a1f258504ec",
        "id": "z2JXGv3vNo7E"
      },
      "execution_count": 43,
      "outputs": [
        {
          "output_type": "stream",
          "name": "stderr",
          "text": [
            "/usr/local/lib/python3.9/dist-packages/sklearn/linear_model/_logistic.py:458: ConvergenceWarning: lbfgs failed to converge (status=1):\n",
            "STOP: TOTAL NO. of ITERATIONS REACHED LIMIT.\n",
            "\n",
            "Increase the number of iterations (max_iter) or scale the data as shown in:\n",
            "    https://scikit-learn.org/stable/modules/preprocessing.html\n",
            "Please also refer to the documentation for alternative solver options:\n",
            "    https://scikit-learn.org/stable/modules/linear_model.html#logistic-regression\n",
            "  n_iter_i = _check_optimize_result(\n",
            "/usr/local/lib/python3.9/dist-packages/sklearn/linear_model/_logistic.py:458: ConvergenceWarning: lbfgs failed to converge (status=1):\n",
            "STOP: TOTAL NO. of ITERATIONS REACHED LIMIT.\n",
            "\n",
            "Increase the number of iterations (max_iter) or scale the data as shown in:\n",
            "    https://scikit-learn.org/stable/modules/preprocessing.html\n",
            "Please also refer to the documentation for alternative solver options:\n",
            "    https://scikit-learn.org/stable/modules/linear_model.html#logistic-regression\n",
            "  n_iter_i = _check_optimize_result(\n",
            "/usr/local/lib/python3.9/dist-packages/sklearn/linear_model/_logistic.py:458: ConvergenceWarning: lbfgs failed to converge (status=1):\n",
            "STOP: TOTAL NO. of ITERATIONS REACHED LIMIT.\n",
            "\n",
            "Increase the number of iterations (max_iter) or scale the data as shown in:\n",
            "    https://scikit-learn.org/stable/modules/preprocessing.html\n",
            "Please also refer to the documentation for alternative solver options:\n",
            "    https://scikit-learn.org/stable/modules/linear_model.html#logistic-regression\n",
            "  n_iter_i = _check_optimize_result(\n",
            "/usr/local/lib/python3.9/dist-packages/sklearn/linear_model/_logistic.py:458: ConvergenceWarning: lbfgs failed to converge (status=1):\n",
            "STOP: TOTAL NO. of ITERATIONS REACHED LIMIT.\n",
            "\n",
            "Increase the number of iterations (max_iter) or scale the data as shown in:\n",
            "    https://scikit-learn.org/stable/modules/preprocessing.html\n",
            "Please also refer to the documentation for alternative solver options:\n",
            "    https://scikit-learn.org/stable/modules/linear_model.html#logistic-regression\n",
            "  n_iter_i = _check_optimize_result(\n",
            "/usr/local/lib/python3.9/dist-packages/sklearn/linear_model/_logistic.py:458: ConvergenceWarning: lbfgs failed to converge (status=1):\n",
            "STOP: TOTAL NO. of ITERATIONS REACHED LIMIT.\n",
            "\n",
            "Increase the number of iterations (max_iter) or scale the data as shown in:\n",
            "    https://scikit-learn.org/stable/modules/preprocessing.html\n",
            "Please also refer to the documentation for alternative solver options:\n",
            "    https://scikit-learn.org/stable/modules/linear_model.html#logistic-regression\n",
            "  n_iter_i = _check_optimize_result(\n",
            "/usr/local/lib/python3.9/dist-packages/sklearn/linear_model/_logistic.py:458: ConvergenceWarning: lbfgs failed to converge (status=1):\n",
            "STOP: TOTAL NO. of ITERATIONS REACHED LIMIT.\n",
            "\n",
            "Increase the number of iterations (max_iter) or scale the data as shown in:\n",
            "    https://scikit-learn.org/stable/modules/preprocessing.html\n",
            "Please also refer to the documentation for alternative solver options:\n",
            "    https://scikit-learn.org/stable/modules/linear_model.html#logistic-regression\n",
            "  n_iter_i = _check_optimize_result(\n",
            "/usr/local/lib/python3.9/dist-packages/sklearn/linear_model/_logistic.py:458: ConvergenceWarning: lbfgs failed to converge (status=1):\n",
            "STOP: TOTAL NO. of ITERATIONS REACHED LIMIT.\n",
            "\n",
            "Increase the number of iterations (max_iter) or scale the data as shown in:\n",
            "    https://scikit-learn.org/stable/modules/preprocessing.html\n",
            "Please also refer to the documentation for alternative solver options:\n",
            "    https://scikit-learn.org/stable/modules/linear_model.html#logistic-regression\n",
            "  n_iter_i = _check_optimize_result(\n",
            "/usr/local/lib/python3.9/dist-packages/sklearn/linear_model/_logistic.py:458: ConvergenceWarning: lbfgs failed to converge (status=1):\n",
            "STOP: TOTAL NO. of ITERATIONS REACHED LIMIT.\n",
            "\n",
            "Increase the number of iterations (max_iter) or scale the data as shown in:\n",
            "    https://scikit-learn.org/stable/modules/preprocessing.html\n",
            "Please also refer to the documentation for alternative solver options:\n",
            "    https://scikit-learn.org/stable/modules/linear_model.html#logistic-regression\n",
            "  n_iter_i = _check_optimize_result(\n"
          ]
        },
        {
          "output_type": "stream",
          "name": "stdout",
          "text": [
            "Linear Regression [0.7        0.8        0.6        0.8        0.7        0.6\n",
            " 0.7        0.5        0.44444444 0.88888889]\n",
            "Linear Regression Accuracy: 0.6733333333333335\n",
            "Decision Tree [0.6        0.8        0.8        1.         0.6        0.7\n",
            " 0.9        0.9        0.77777778 0.88888889]\n",
            "Decision Tree Accuracy: 0.7966666666666666\n",
            "SVM [0.7        0.6        0.6        1.         0.7        0.6\n",
            " 0.6        0.8        0.33333333 0.77777778]\n",
            "SVM Accuracy: 0.671111111111111\n",
            "RandomForest [0.8        0.8        0.9        1.         0.9        0.8\n",
            " 0.9        0.9        0.66666667 0.88888889]\n",
            "RandomForest Accuracy: 0.8555555555555555\n"
          ]
        }
      ]
    },
    {
      "cell_type": "markdown",
      "source": [
        "## PCA"
      ],
      "metadata": {
        "id": "FcYUcaRCTp0D"
      }
    },
    {
      "cell_type": "code",
      "source": [
        "import numpy as np\n",
        "import matplotlib.pyplot as plt\n",
        "from mpl_toolkits.mplot3d import Axes3D\n",
        "\n",
        "\n",
        "# Reshape data\n",
        "data_2d = data.reshape(98, -1)\n",
        "\n",
        "# Perform PCA\n",
        "from sklearn.decomposition import PCA\n",
        "pca = PCA(n_components=10)\n",
        "data_pca = pca.fit_transform(data_2d)\n",
        "\n",
        "\n",
        "scikit_models = [\n",
        "    ('Linear Regression', LogisticRegression()),\n",
        "    ('Decision Tree', DecisionTreeClassifier()),\n",
        "    ('SVM', SVC()),\n",
        "    ('RandomForest', RandomForestClassifier())\n",
        "]\n",
        "\n",
        "# Loop over Scikit-learn models, train the model, and evaluate the model using 10-fold cross-validation\n",
        "acc=[]\n",
        "acc1=[]\n",
        "\n",
        "for name, model in scikit_models:\n",
        "  acc=[]\n",
        "  for i in range(1,47,1):\n",
        "    pca = PCA(n_components=i)\n",
        "    data_pca = pca.fit_transform(data_2d)\n",
        "    scores = cross_val_score(model, data_pca.reshape(98, -1), target, cv=10)\n",
        "    acc.append(scores.mean())\n",
        "  acc1.append(acc)\n",
        "      # print(name, \"Accuracy:\", scores.mean())\n"
      ],
      "metadata": {
        "id": "MB-15A-fTrfE"
      },
      "execution_count": null,
      "outputs": []
    },
    {
      "cell_type": "code",
      "source": [
        "plt.plot(acc1[0],label='linear regression')\n",
        "plt.plot(acc1[1],label='decision tree')\n",
        "plt.plot(acc1[2],label='svm')\n",
        "plt.plot(acc1[3],label='random forest')\n",
        "plt.legend()\n",
        "plt.xlabel('PCA component')\n",
        "plt.ylabel('Accuracy')"
      ],
      "metadata": {
        "colab": {
          "base_uri": "https://localhost:8080/",
          "height": 296
        },
        "id": "MOk1Zzy1pRLW",
        "outputId": "c6777f86-25be-4425-eeec-72bd25a5a20e"
      },
      "execution_count": 104,
      "outputs": [
        {
          "output_type": "execute_result",
          "data": {
            "text/plain": [
              "Text(0, 0.5, 'Accuracy')"
            ]
          },
          "metadata": {},
          "execution_count": 104
        },
        {
          "output_type": "display_data",
          "data": {
            "text/plain": [
              "<Figure size 432x288 with 1 Axes>"
            ],
            "image/png": "[encoded data removed]"
          },
          "metadata": {
            "needs_background": "light"
          }
        }
      ]
    },
    {
      "cell_type": "code",
      "source": [
        "import numpy as np\n",
        "import matplotlib.pyplot as plt\n",
        "\n",
        "# Load data and labels\n",
        "\n",
        "# Reshape data\n",
        "data_2d = data.reshape(98, -1)\n",
        "\n",
        "# Perform PCA\n",
        "from sklearn.decomposition import PCA\n",
        "pca = PCA(n_components=2)\n",
        "data_pca = pca.fit_transform(data_2d)\n",
        "\n",
        "# Plot results\n",
        "fig, ax = plt.subplots()\n",
        "\n",
        "# Color points by label\n",
        "scatter = ax.scatter(data_pca[:,0], data_pca[:,1], c=target)\n",
        "\n",
        "# # Add labels to points\n",
        "# for i, txt in enumerate(range(len(data_pca))):\n",
        "#     ax.annotate(txt, (data_pca[i,0], data_pca[i,1]))\n",
        "\n",
        "# Add legend\n",
        "handles, labels = scatter.legend_elements()\n",
        "ax.legend(handles, labels, title=\"Classes\")\n",
        "\n",
        "# Add axis labels\n",
        "ax.set_xlabel('PC1')\n",
        "ax.set_ylabel('PC2')\n",
        "plt.show()"
      ],
      "metadata": {
        "colab": {
          "base_uri": "https://localhost:8080/",
          "height": 279
        },
        "id": "uXnCyE9hXEvq",
        "outputId": "5be4f5c2-0300-42ca-fa84-17ceb7f4093f"
      },
      "execution_count": 54,
      "outputs": [
        {
          "output_type": "display_data",
          "data": {
            "text/plain": [
              "<Figure size 432x288 with 1 Axes>"
            ],
            "image/png": "[encoded data removed]"
          },
          "metadata": {
            "needs_background": "light"
          }
        }
      ]
    },
    {
      "cell_type": "markdown",
      "source": [
        "##Random forest"
      ],
      "metadata": {
        "id": "QmQ1O5nkCspX"
      }
    },
    {
      "cell_type": "code",
      "source": [
        "import numpy as np\n",
        "from sklearn.linear_model import LogisticRegression\n",
        "from sklearn.tree import DecisionTreeClassifier\n",
        "from sklearn.ensemble import RandomForestClassifier\n",
        "\n",
        "from sklearn.svm import SVC\n",
        "from keras.models import Sequential\n",
        "from keras.layers import Dense, LSTM, GRU, SimpleRNN, Flatten,Dropout\n",
        "from keras.wrappers.scikit_learn import KerasClassifier\n",
        "from sklearn.metrics import accuracy_score\n",
        "from sklearn.model_selection import cross_val_score\n",
        "\n",
        "# Define the Scikit-learn models to be tested\n",
        "scikit_models = [\n",
        "    \n",
        "    ('RandomForest', RandomForestClassifier())\n",
        "]\n",
        "\n",
        "\n",
        "\n",
        "# Loop over Scikit-learn models, train the model, and evaluate the model\n",
        "model=RandomForestClassifier()\n",
        "\n",
        "model.fit(data.reshape(98, -1), target)\n",
        "y_pred = model.predict(data.reshape(98, -1))\n",
        "acc = accuracy_score(target, y_pred)\n",
        "print(name, acc)\n"
      ],
      "metadata": {
        "colab": {
          "base_uri": "https://localhost:8080/"
        },
        "id": "Wc6i0uGYCrpG",
        "outputId": "3ef3e621-4a4e-4359-e880-f1fbcf226d98"
      },
      "execution_count": 109,
      "outputs": [
        {
          "output_type": "stream",
          "name": "stdout",
          "text": [
            "RandomForest 1.0\n"
          ]
        }
      ]
    },
    {
      "cell_type": "code",
      "source": [
        "# save the model to disk\n",
        "filename = 'finalized_model.sav'\n",
        "pickle.dump(model, open(filename, 'wb'))\n",
        "\n",
        "# some time later...\n",
        "\n",
        "# load the model from disk\n",
        "loaded_model = pickle.load(open(filename, 'rb'))\n"
      ],
      "metadata": {
        "id": "GYFArqZRD2QQ"
      },
      "execution_count": 111,
      "outputs": []
    },
    {
      "cell_type": "code",
      "source": [
        "inn=0\n",
        "for i in range(len(target)):\n",
        "  if target[i]==1:\n",
        "    inn=inn+1\n",
        "\n",
        "print(inn)"
      ],
      "metadata": {
        "colab": {
          "base_uri": "https://localhost:8080/"
        },
        "id": "yOxQoV1z5hyQ",
        "outputId": "8bfc66c0-2ec3-49e2-b2fe-3dfc5a668ef7"
      },
      "execution_count": 14,
      "outputs": [
        {
          "output_type": "stream",
          "name": "stdout",
          "text": [
            "55\n"
          ]
        }
      ]
    }
  ]
}