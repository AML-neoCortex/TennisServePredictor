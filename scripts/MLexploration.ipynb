{
  "nbformat": 4,
  "nbformat_minor": 0,
  "metadata": {
    "colab": {
      "provenance": [],
      "toc_visible": true
    },
    "kernelspec": {
      "name": "python3",
      "display_name": "Python 3"
    },
    "language_info": {
      "name": "python"
    }
  },
  "cells": [
    {
      "cell_type": "code",
      "source": [
        "import pickle\n",
        "with open('filename.pickle', 'rb') as handle:\n",
        "    data = pickle.load(handle)"
      ],
      "metadata": {
        "id": "sOQYGmllx5fx"
      },
      "execution_count": 34,
      "outputs": []
    },
    {
      "cell_type": "code",
      "source": [],
      "metadata": {
        "id": "7daF5bIG60K-"
      },
      "execution_count": null,
      "outputs": []
    },
    {
      "cell_type": "code",
      "source": [
        "with open('labels.pickle', 'rb') as handle:\n",
        "    target = pickle.load(handle)"
      ],
      "metadata": {
        "id": "m-yhVPoMy6F4"
      },
      "execution_count": 35,
      "outputs": []
    },
    {
      "cell_type": "code",
      "source": [
        "data=np.asarray(data, dtype = np.float64, \n",
        "                        order ='C')"
      ],
      "metadata": {
        "id": "sQrsMDnP62kM"
      },
      "execution_count": 42,
      "outputs": []
    },
    {
      "cell_type": "code",
      "source": [
        "!pip install scikeras"
      ],
      "metadata": {
        "colab": {
          "base_uri": "https://localhost:8080/"
        },
        "id": "VswHZrCd7v9R",
        "outputId": "c078807e-275f-4d56-8942-edf91f467fc6"
      },
      "execution_count": 4,
      "outputs": [
        {
          "output_type": "stream",
          "name": "stdout",
          "text": [
            "Looking in indexes: https://pypi.org/simple, https://us-python.pkg.dev/colab-wheels/public/simple/\n",
            "Collecting scikeras\n",
            "  Downloading scikeras-0.10.0-py3-none-any.whl (27 kB)\n",
            "Requirement already satisfied: scikit-learn>=1.0.0 in /usr/local/lib/python3.9/dist-packages (from scikeras) (1.2.2)\n",
            "Requirement already satisfied: packaging>=0.21 in /usr/local/lib/python3.9/dist-packages (from scikeras) (23.0)\n",
            "Requirement already satisfied: numpy>=1.17.3 in /usr/local/lib/python3.9/dist-packages (from scikit-learn>=1.0.0->scikeras) (1.22.4)\n",
            "Requirement already satisfied: joblib>=1.1.1 in /usr/local/lib/python3.9/dist-packages (from scikit-learn>=1.0.0->scikeras) (1.1.1)\n",
            "Requirement already satisfied: scipy>=1.3.2 in /usr/local/lib/python3.9/dist-packages (from scikit-learn>=1.0.0->scikeras) (1.10.1)\n",
            "Requirement already satisfied: threadpoolctl>=2.0.0 in /usr/local/lib/python3.9/dist-packages (from scikit-learn>=1.0.0->scikeras) (3.1.0)\n",
            "Installing collected packages: scikeras\n",
            "Successfully installed scikeras-0.10.0\n"
          ]
        }
      ]
    },
    {
      "cell_type": "code",
      "source": [
        "import numpy as np\n",
        "from sklearn.linear_model import LogisticRegression\n",
        "from sklearn.tree import DecisionTreeClassifier\n",
        "from sklearn.svm import SVC\n",
        "from keras.models import Sequential\n",
        "from keras.layers import Dense, LSTM, GRU, SimpleRNN, Flatten,Dropout\n",
        "from keras.wrappers.scikit_learn import KerasClassifier\n",
        "from sklearn.metrics import accuracy_score\n",
        "\n",
        "# Generate a dataset of 20 samples of (149,47) fictive data\n",
        "# data = np.random.rand(20, 149, 47)\n",
        "# target = np.random.randint(0, 2, size=(20,))\n",
        "\n",
        "# Define the Scikit-learn models to be tested\n",
        "scikit_models = [\n",
        "    ('Linear Regression', LogisticRegression()),\n",
        "    ('Decision Tree', DecisionTreeClassifier()),\n",
        "    ('SVM', SVC())\n",
        "]\n",
        "\n",
        "# Loop over Scikit-learn models, train the model, and evaluate the model\n",
        "for name, model in scikit_models:\n",
        "    model.fit(data.reshape(98, -1), target)\n",
        "    y_pred = model.predict(data.reshape(98, -1))\n",
        "    acc = accuracy_score(target, y_pred)\n",
        "    print(name, acc)\n",
        "\n",
        "# Define the Keras models to be tested\n",
        "def create_rnn():\n",
        "    model = Sequential([SimpleRNN(32), Dense(1, activation='sigmoid')])\n",
        "    model.compile(loss='binary_crossentropy', optimizer='adam', metrics=['accuracy'])\n",
        "    return model\n",
        "\n",
        "def create_gru():\n",
        "    model = Sequential([GRU(32), Dense(1, activation='sigmoid')])\n",
        "    model.compile(loss='binary_crossentropy', optimizer='adam', metrics=['accuracy'])\n",
        "    return model\n",
        "\n",
        "def create_lstm():\n",
        "    model = Sequential([LSTM(32), Dense(1, activation='sigmoid')])\n",
        "    model.compile(loss='binary_crossentropy', optimizer='adam', metrics=['accuracy'])\n",
        "    return model\n",
        "\n",
        "def create_dnn():\n",
        "    model = Sequential([Flatten(input_shape=(149, 47)),\n",
        "    Dense(128, activation='relu'),\n",
        "    Dense(1, activation='sigmoid')\n",
        "])\n",
        "    model.compile(loss='binary_crossentropy', optimizer='adam', metrics=['accuracy'])\n",
        "    return model\n",
        "\n",
        "keras_models = [\n",
        "    ('RNN', KerasClassifier(build_fn=create_rnn, epochs=10, verbose=0)),\n",
        "    ('GRU', KerasClassifier(build_fn=create_gru, epochs=10, verbose=0)),\n",
        "    ('LSTM', KerasClassifier(build_fn=create_lstm, epochs=10, verbose=0)),\n",
        "    ('DNN', KerasClassifier(build_fn=create_dnn, epochs=10, verbose=0))\n",
        "]\n",
        "\n",
        "# Loop over Keras models, train the model, and evaluate the model\n",
        "for name, model in keras_models:\n",
        "    model.fit(data, target)\n",
        "    y_pred = (model.predict(data) > 0.5).astype(\"int32\")\n",
        "    acc = accuracy_score(target, y_pred)\n",
        "    print(name, acc)\n"
      ],
      "metadata": {
        "colab": {
          "base_uri": "https://localhost:8080/"
        },
        "id": "XTjnBadL9wY4",
        "outputId": "8b8074ea-33ff-4796-8d2e-94667a2dadd5"
      },
      "execution_count": 43,
      "outputs": [
        {
          "output_type": "stream",
          "name": "stderr",
          "text": [
            "/usr/local/lib/python3.9/dist-packages/sklearn/linear_model/_logistic.py:458: ConvergenceWarning: lbfgs failed to converge (status=1):\n",
            "STOP: TOTAL NO. of ITERATIONS REACHED LIMIT.\n",
            "\n",
            "Increase the number of iterations (max_iter) or scale the data as shown in:\n",
            "    https://scikit-learn.org/stable/modules/preprocessing.html\n",
            "Please also refer to the documentation for alternative solver options:\n",
            "    https://scikit-learn.org/stable/modules/linear_model.html#logistic-regression\n",
            "  n_iter_i = _check_optimize_result(\n"
          ]
        },
        {
          "output_type": "stream",
          "name": "stdout",
          "text": [
            "Linear Regression 1.0\n",
            "Decision Tree 1.0\n",
            "SVM 0.8979591836734694\n"
          ]
        },
        {
          "output_type": "stream",
          "name": "stderr",
          "text": [
            "<ipython-input-43-af5363848e22>:53: DeprecationWarning: KerasClassifier is deprecated, use Sci-Keras (https://github.com/adriangb/scikeras) instead. See https://www.adriangb.com/scikeras/stable/migration.html for help migrating.\n",
            "  ('RNN', KerasClassifier(build_fn=create_rnn, epochs=10, verbose=0)),\n",
            "<ipython-input-43-af5363848e22>:54: DeprecationWarning: KerasClassifier is deprecated, use Sci-Keras (https://github.com/adriangb/scikeras) instead. See https://www.adriangb.com/scikeras/stable/migration.html for help migrating.\n",
            "  ('GRU', KerasClassifier(build_fn=create_gru, epochs=10, verbose=0)),\n",
            "<ipython-input-43-af5363848e22>:55: DeprecationWarning: KerasClassifier is deprecated, use Sci-Keras (https://github.com/adriangb/scikeras) instead. See https://www.adriangb.com/scikeras/stable/migration.html for help migrating.\n",
            "  ('LSTM', KerasClassifier(build_fn=create_lstm, epochs=10, verbose=0)),\n",
            "<ipython-input-43-af5363848e22>:56: DeprecationWarning: KerasClassifier is deprecated, use Sci-Keras (https://github.com/adriangb/scikeras) instead. See https://www.adriangb.com/scikeras/stable/migration.html for help migrating.\n",
            "  ('DNN', KerasClassifier(build_fn=create_dnn, epochs=10, verbose=0))\n",
            "WARNING:tensorflow:5 out of the last 5 calls to <function Model.make_predict_function.<locals>.predict_function at 0x7f138cd38a60> triggered tf.function retracing. Tracing is expensive and the excessive number of tracings could be due to (1) creating @tf.function repeatedly in a loop, (2) passing tensors with different shapes, (3) passing Python objects instead of tensors. For (1), please define your @tf.function outside of the loop. For (2), @tf.function has reduce_retracing=True option that can avoid unnecessary retracing. For (3), please refer to https://www.tensorflow.org/guide/function#controlling_retracing and https://www.tensorflow.org/api_docs/python/tf/function for  more details.\n"
          ]
        },
        {
          "output_type": "stream",
          "name": "stdout",
          "text": [
            "4/4 [==============================] - 0s 11ms/step\n",
            "RNN 0.6938775510204082\n"
          ]
        },
        {
          "output_type": "stream",
          "name": "stderr",
          "text": [
            "WARNING:tensorflow:6 out of the last 9 calls to <function Model.make_predict_function.<locals>.predict_function at 0x7f138ca150d0> triggered tf.function retracing. Tracing is expensive and the excessive number of tracings could be due to (1) creating @tf.function repeatedly in a loop, (2) passing tensors with different shapes, (3) passing Python objects instead of tensors. For (1), please define your @tf.function outside of the loop. For (2), @tf.function has reduce_retracing=True option that can avoid unnecessary retracing. For (3), please refer to https://www.tensorflow.org/guide/function#controlling_retracing and https://www.tensorflow.org/api_docs/python/tf/function for  more details.\n"
          ]
        },
        {
          "output_type": "stream",
          "name": "stdout",
          "text": [
            "4/4 [==============================] - 1s 25ms/step\n",
            "GRU 0.8367346938775511\n",
            "4/4 [==============================] - 1s 20ms/step\n",
            "LSTM 0.7755102040816326\n",
            "4/4 [==============================] - 0s 4ms/step\n",
            "DNN 1.0\n"
          ]
        }
      ]
    },
    {
      "cell_type": "code",
      "source": [
        "# test with more complex models \n",
        "\n",
        "def create_rnn():\n",
        "    model = Sequential([\n",
        "        SimpleRNN(64, return_sequences=True),\n",
        "        Dropout(0.2),\n",
        "        SimpleRNN(32),\n",
        "        Dense(1, activation='sigmoid')\n",
        "    ])\n",
        "    model.compile(loss='binary_crossentropy', optimizer='adam', metrics=['accuracy'])\n",
        "    return model\n",
        "\n",
        "def create_gru():\n",
        "    model = Sequential([\n",
        "        GRU(64, return_sequences=True),\n",
        "        Dropout(0.2),\n",
        "        GRU(32),\n",
        "        Dense(1, activation='sigmoid')\n",
        "    ])\n",
        "    model.compile(loss='binary_crossentropy', optimizer='adam', metrics=['accuracy'])\n",
        "    return model\n",
        "\n",
        "def create_lstm():\n",
        "    model = Sequential([\n",
        "        LSTM(64, return_sequences=True),\n",
        "        Dropout(0.2),\n",
        "        LSTM(32),\n",
        "        Dense(1, activation='sigmoid')\n",
        "    ])\n",
        "    model.compile(loss='binary_crossentropy', optimizer='adam', metrics=['accuracy'])\n",
        "    return model\n",
        "\n",
        "def create_dnn():\n",
        "    model = Sequential([\n",
        "        Flatten(input_shape=(149, 47)),\n",
        "        Dense(256, activation='relu'),\n",
        "        Dropout(0.2),\n",
        "        Dense(128, activation='relu'),\n",
        "        Dropout(0.2),\n",
        "        Dense(64, activation='relu'),\n",
        "        Dense(1, activation='sigmoid')\n",
        "    ])\n",
        "    model.compile(loss='binary_crossentropy', optimizer='adam', metrics=['accuracy'])\n",
        "    return model\n",
        "\n",
        "keras_models = [\n",
        "    ('RNN', KerasClassifier(build_fn=create_rnn, epochs=10, verbose=0)),\n",
        "    ('GRU', KerasClassifier(build_fn=create_gru, epochs=10, verbose=0)),\n",
        "    ('LSTM', KerasClassifier(build_fn=create_lstm, epochs=10, verbose=0)),\n",
        "    ('DNN', KerasClassifier(build_fn=create_dnn, epochs=10, verbose=0))\n",
        "]\n",
        "\n",
        "# Loop over Keras models, train the model, and evaluate the model\n",
        "for name, model in keras_models:\n",
        "    model.fit(data, target)\n",
        "    y_pred = (model.predict(data) > 0.5).astype(\"int32\")\n",
        "    acc = accuracy_score(target, y_pred)\n",
        "    print(name, acc)\n"
      ],
      "metadata": {
        "colab": {
          "base_uri": "https://localhost:8080/"
        },
        "id": "wd2llG5AEoS2",
        "outputId": "45720a20-30eb-47cf-8f04-4c24ecab36cf"
      },
      "execution_count": 44,
      "outputs": [
        {
          "output_type": "stream",
          "name": "stderr",
          "text": [
            "<ipython-input-44-e505dcd6c917>:47: DeprecationWarning: KerasClassifier is deprecated, use Sci-Keras (https://github.com/adriangb/scikeras) instead. See https://www.adriangb.com/scikeras/stable/migration.html for help migrating.\n",
            "  ('RNN', KerasClassifier(build_fn=create_rnn, epochs=10, verbose=0)),\n",
            "<ipython-input-44-e505dcd6c917>:48: DeprecationWarning: KerasClassifier is deprecated, use Sci-Keras (https://github.com/adriangb/scikeras) instead. See https://www.adriangb.com/scikeras/stable/migration.html for help migrating.\n",
            "  ('GRU', KerasClassifier(build_fn=create_gru, epochs=10, verbose=0)),\n",
            "<ipython-input-44-e505dcd6c917>:49: DeprecationWarning: KerasClassifier is deprecated, use Sci-Keras (https://github.com/adriangb/scikeras) instead. See https://www.adriangb.com/scikeras/stable/migration.html for help migrating.\n",
            "  ('LSTM', KerasClassifier(build_fn=create_lstm, epochs=10, verbose=0)),\n",
            "<ipython-input-44-e505dcd6c917>:50: DeprecationWarning: KerasClassifier is deprecated, use Sci-Keras (https://github.com/adriangb/scikeras) instead. See https://www.adriangb.com/scikeras/stable/migration.html for help migrating.\n",
            "  ('DNN', KerasClassifier(build_fn=create_dnn, epochs=10, verbose=0))\n"
          ]
        },
        {
          "output_type": "stream",
          "name": "stdout",
          "text": [
            "4/4 [==============================] - 0s 19ms/step\n",
            "RNN 0.8061224489795918\n",
            "4/4 [==============================] - 1s 54ms/step\n",
            "GRU 0.9489795918367347\n",
            "4/4 [==============================] - 1s 31ms/step\n",
            "LSTM 0.9387755102040817\n",
            "4/4 [==============================] - 0s 14ms/step\n",
            "DNN 0.9285714285714286\n"
          ]
        }
      ]
    },
    {
      "cell_type": "code",
      "source": [
        "# logreg = LogisticRegression(max_iter=1000)\n",
        "\n",
        "# param_grid = {\n",
        "#     'penalty': ['l1', 'l2'],\n",
        "#     'C': [0.001, 0.01, 0.1, 1, 10, 100, 1000]\n",
        "# }\n",
        "\n",
        "# grid_search = GridSearchCV(logreg, param_grid, cv=5)\n",
        "# grid_search.fit(data, target)\n",
        "# logreg_best = grid_search.best_estimator_\n",
        "\n",
        "\n",
        "# dt = DecisionTreeClassifier()\n",
        "\n",
        "# param_grid = {\n",
        "#     'criterion': ['gini', 'entropy'],\n",
        "#     'max_depth': [2, 3, 4, 5, 6, 7, 8, 9, 10],\n",
        "#     'min_samples_split': [2, 3, 4, 5, 6, 7, 8, 9, 10],\n",
        "#     'min_samples_leaf': [1, 2, 3, 4, 5, 6, 7, 8, 9, 10]\n",
        "# }\n",
        "\n",
        "# grid_search = GridSearchCV(dt, param_grid, cv=5)\n",
        "# grid_search.fit(data, target)\n",
        "# dt_best = grid_search.best_estimator_\n",
        "\n",
        "\n",
        "# svm = SVC(probability=True)\n",
        "\n",
        "# param_grid = {\n",
        "#     'C': [0.001, 0.01, 0.1, 1, 10, 100, 1000],\n",
        "#     'kernel': ['linear', 'poly', 'rbf', 'sigmoid'],\n",
        "#     'degree': [2, 3, 4, 5, 6],\n",
        "#     'gamma': ['scale', 'auto'] + list(np.logspace(-3, 3, 7))\n",
        "# }\n",
        "\n",
        "# grid_search = GridSearchCV(svm, param_grid, cv=5)\n",
        "# grid_search.fit(data, target)\n",
        "# svm_best = grid_search.best_estimator_\n"
      ],
      "metadata": {
        "id": "EZNwo2yaGA7o"
      },
      "execution_count": null,
      "outputs": []
    },
    {
      "cell_type": "markdown",
      "source": [
        "## Split into Train/Test"
      ],
      "metadata": {
        "id": "SJskkxl38i1p"
      }
    },
    {
      "cell_type": "code",
      "source": [
        "import numpy as np\n",
        "from sklearn.model_selection import train_test_split\n",
        "\n",
        "\n",
        "X_train, X_test, y_train, y_test = train_test_split(data, target, test_size=0.2, random_state=42)\n",
        "\n",
        "print(\"Training set shape:\", X_train.shape)\n",
        "print(\"Testing set shape:\", X_test.shape)"
      ],
      "metadata": {
        "colab": {
          "base_uri": "https://localhost:8080/"
        },
        "id": "Sa7K4b-B8w17",
        "outputId": "8257d21e-72ac-4473-e10f-8e11f2e5d552"
      },
      "execution_count": 54,
      "outputs": [
        {
          "output_type": "stream",
          "name": "stdout",
          "text": [
            "Training set shape: (78, 149, 47)\n",
            "Testing set shape: (20, 149, 47)\n"
          ]
        }
      ]
    },
    {
      "cell_type": "code",
      "source": [],
      "metadata": {
        "id": "mcFPdq0m825J"
      },
      "execution_count": null,
      "outputs": []
    },
    {
      "cell_type": "code",
      "source": [
        "import numpy as np\n",
        "from sklearn.linear_model import LogisticRegression\n",
        "from sklearn.tree import DecisionTreeClassifier\n",
        "from sklearn.svm import SVC\n",
        "from keras.models import Sequential\n",
        "from keras.layers import Dense, LSTM, GRU, SimpleRNN, Flatten,Dropout\n",
        "from keras.wrappers.scikit_learn import KerasClassifier\n",
        "from sklearn.metrics import accuracy_score\n",
        "\n",
        "# Generate a dataset of 20 samples of (149,47) fictive data\n",
        "# data = np.random.rand(20, 149, 47)\n",
        "# target = np.random.randint(0, 2, size=(20,))\n",
        "\n",
        "# Define the Scikit-learn models to be tested\n",
        "scikit_models = [\n",
        "    ('Linear Regression', LogisticRegression()),\n",
        "    ('Decision Tree', DecisionTreeClassifier()),\n",
        "    ('SVM', SVC())\n",
        "]\n",
        "\n",
        "# Loop over Scikit-learn models, train the model, and evaluate the model\n",
        "for name, model in scikit_models:\n",
        "    model.fit(X_train.reshape(78, -1), y_train)\n",
        "    y_pred = model.predict(X_train.reshape(78, -1))\n",
        "    acc = accuracy_score(y_train, y_pred)\n",
        "    print(name, acc)\n",
        "\n",
        "# Define the Keras models to be tested\n",
        "def create_rnn():\n",
        "    model = Sequential([SimpleRNN(32), Dense(1, activation='sigmoid')])\n",
        "    model.compile(loss='binary_crossentropy', optimizer='adam', metrics=['accuracy'])\n",
        "    return model\n",
        "\n",
        "def create_gru():\n",
        "    model = Sequential([GRU(32), Dense(1, activation='sigmoid')])\n",
        "    model.compile(loss='binary_crossentropy', optimizer='adam', metrics=['accuracy'])\n",
        "    return model\n",
        "\n",
        "def create_lstm():\n",
        "    model = Sequential([LSTM(32), Dense(1, activation='sigmoid')])\n",
        "    model.compile(loss='binary_crossentropy', optimizer='adam', metrics=['accuracy'])\n",
        "    return model\n",
        "\n",
        "def create_dnn():\n",
        "    model = Sequential([Flatten(input_shape=(149, 47)),\n",
        "    Dense(128, activation='relu'),\n",
        "    Dense(1, activation='sigmoid')\n",
        "])\n",
        "    model.compile(loss='binary_crossentropy', optimizer='adam', metrics=['accuracy'])\n",
        "    return model\n",
        "\n",
        "keras_models = [\n",
        "    ('RNN', KerasClassifier(build_fn=create_rnn, epochs=10, verbose=0)),\n",
        "    ('GRU', KerasClassifier(build_fn=create_gru, epochs=10, verbose=0)),\n",
        "    ('LSTM', KerasClassifier(build_fn=create_lstm, epochs=10, verbose=0)),\n",
        "    ('DNN', KerasClassifier(build_fn=create_dnn, epochs=10, verbose=0))\n",
        "]\n",
        "\n",
        "# Loop over Keras models, train the model, and evaluate the model\n",
        "for name, model in keras_models:\n",
        "    model.fit(X_train, y_train)\n",
        "    y_pred = (model.predict(X_train) > 0.5).astype(\"int32\")\n",
        "    acc = accuracy_score(y_train, y_pred)\n",
        "    print(name, acc)\n"
      ],
      "metadata": {
        "colab": {
          "base_uri": "https://localhost:8080/"
        },
        "outputId": "1623c83b-c90e-4f2c-a84f-3b516ac0d52c",
        "id": "6GxhKvTD8xCo"
      },
      "execution_count": 56,
      "outputs": [
        {
          "output_type": "stream",
          "name": "stderr",
          "text": [
            "/usr/local/lib/python3.9/dist-packages/sklearn/linear_model/_logistic.py:458: ConvergenceWarning: lbfgs failed to converge (status=1):\n",
            "STOP: TOTAL NO. of ITERATIONS REACHED LIMIT.\n",
            "\n",
            "Increase the number of iterations (max_iter) or scale the data as shown in:\n",
            "    https://scikit-learn.org/stable/modules/preprocessing.html\n",
            "Please also refer to the documentation for alternative solver options:\n",
            "    https://scikit-learn.org/stable/modules/linear_model.html#logistic-regression\n",
            "  n_iter_i = _check_optimize_result(\n"
          ]
        },
        {
          "output_type": "stream",
          "name": "stdout",
          "text": [
            "Linear Regression 1.0\n",
            "Decision Tree 1.0\n",
            "SVM 0.9102564102564102\n"
          ]
        },
        {
          "output_type": "stream",
          "name": "stderr",
          "text": [
            "<ipython-input-56-e6dbcb394f0e>:53: DeprecationWarning: KerasClassifier is deprecated, use Sci-Keras (https://github.com/adriangb/scikeras) instead. See https://www.adriangb.com/scikeras/stable/migration.html for help migrating.\n",
            "  ('RNN', KerasClassifier(build_fn=create_rnn, epochs=10, verbose=0)),\n",
            "<ipython-input-56-e6dbcb394f0e>:54: DeprecationWarning: KerasClassifier is deprecated, use Sci-Keras (https://github.com/adriangb/scikeras) instead. See https://www.adriangb.com/scikeras/stable/migration.html for help migrating.\n",
            "  ('GRU', KerasClassifier(build_fn=create_gru, epochs=10, verbose=0)),\n",
            "<ipython-input-56-e6dbcb394f0e>:55: DeprecationWarning: KerasClassifier is deprecated, use Sci-Keras (https://github.com/adriangb/scikeras) instead. See https://www.adriangb.com/scikeras/stable/migration.html for help migrating.\n",
            "  ('LSTM', KerasClassifier(build_fn=create_lstm, epochs=10, verbose=0)),\n",
            "<ipython-input-56-e6dbcb394f0e>:56: DeprecationWarning: KerasClassifier is deprecated, use Sci-Keras (https://github.com/adriangb/scikeras) instead. See https://www.adriangb.com/scikeras/stable/migration.html for help migrating.\n",
            "  ('DNN', KerasClassifier(build_fn=create_dnn, epochs=10, verbose=0))\n"
          ]
        },
        {
          "output_type": "stream",
          "name": "stdout",
          "text": [
            "3/3 [==============================] - 0s 11ms/step\n",
            "RNN 0.6794871794871795\n",
            "3/3 [==============================] - 2s 14ms/step\n",
            "GRU 0.782051282051282\n",
            "3/3 [==============================] - 1s 19ms/step\n",
            "LSTM 0.8461538461538461\n",
            "3/3 [==============================] - 0s 6ms/step\n",
            "DNN 0.9871794871794872\n"
          ]
        }
      ]
    },
    {
      "cell_type": "code",
      "source": [
        "#testing:\n",
        "\n",
        "for name, model in scikit_models:\n",
        "    y_pred = model.predict(X_test.reshape(20, -1))\n",
        "    acc = accuracy_score(y_test, y_pred)\n",
        "    print(name, acc)\n",
        "\n",
        "\n",
        "for name, model in keras_models:\n",
        "    #model.fit(data, target)\n",
        "    y_pred = (model.predict(X_test) > 0.5).astype(\"int32\")\n",
        "    acc = accuracy_score(y_test, y_pred)\n",
        "    print(name, acc)"
      ],
      "metadata": {
        "colab": {
          "base_uri": "https://localhost:8080/"
        },
        "id": "nbGAr10B9lGs",
        "outputId": "9f1b971f-0a75-4ef1-ffba-35f6d724914b"
      },
      "execution_count": 58,
      "outputs": [
        {
          "output_type": "stream",
          "name": "stdout",
          "text": [
            "Linear Regression 0.6\n",
            "Decision Tree 0.75\n",
            "SVM 0.55\n",
            "1/1 [==============================] - 0s 47ms/step\n",
            "RNN 0.3\n",
            "1/1 [==============================] - 0s 46ms/step\n",
            "GRU 0.6\n",
            "1/1 [==============================] - 0s 44ms/step\n",
            "LSTM 0.6\n",
            "1/1 [==============================] - 0s 58ms/step\n",
            "DNN 0.7\n"
          ]
        }
      ]
    },
    {
      "cell_type": "code",
      "source": [
        "# test with more complex models \n",
        "\n",
        "def create_rnn():\n",
        "    model = Sequential([\n",
        "        SimpleRNN(64, return_sequences=True),\n",
        "        Dropout(0.2),\n",
        "        SimpleRNN(32),\n",
        "        Dense(1, activation='sigmoid')\n",
        "    ])\n",
        "    model.compile(loss='binary_crossentropy', optimizer='adam', metrics=['accuracy'])\n",
        "    return model\n",
        "\n",
        "def create_gru():\n",
        "    model = Sequential([\n",
        "        GRU(64, return_sequences=True),\n",
        "        Dropout(0.2),\n",
        "        GRU(32),\n",
        "        Dense(1, activation='sigmoid')\n",
        "    ])\n",
        "    model.compile(loss='binary_crossentropy', optimizer='adam', metrics=['accuracy'])\n",
        "    return model\n",
        "\n",
        "def create_lstm():\n",
        "    model = Sequential([\n",
        "        LSTM(64, return_sequences=True),\n",
        "        Dropout(0.2),\n",
        "        LSTM(32),\n",
        "        Dense(1, activation='sigmoid')\n",
        "    ])\n",
        "    model.compile(loss='binary_crossentropy', optimizer='adam', metrics=['accuracy'])\n",
        "    return model\n",
        "\n",
        "def create_dnn():\n",
        "    model = Sequential([\n",
        "        Flatten(input_shape=(149, 47)),\n",
        "        Dense(256, activation='relu'),\n",
        "        Dropout(0.2),\n",
        "        Dense(128, activation='relu'),\n",
        "        Dropout(0.2),\n",
        "        Dense(64, activation='relu'),\n",
        "        Dense(1, activation='sigmoid')\n",
        "    ])\n",
        "    model.compile(loss='binary_crossentropy', optimizer='adam', metrics=['accuracy'])\n",
        "    return model\n",
        "\n",
        "keras_models = [\n",
        "    ('RNN', KerasClassifier(build_fn=create_rnn, epochs=10, verbose=0)),\n",
        "    ('GRU', KerasClassifier(build_fn=create_gru, epochs=10, verbose=0)),\n",
        "    ('LSTM', KerasClassifier(build_fn=create_lstm, epochs=10, verbose=0)),\n",
        "    ('DNN', KerasClassifier(build_fn=create_dnn, epochs=10, verbose=0))\n",
        "]\n",
        "\n",
        "# Loop over Keras models, train the model, and evaluate the model\n",
        "for name, model in keras_models:\n",
        "    model.fit(X_train, y_train)\n",
        "    y_pred = (model.predict(X_train) > 0.5).astype(\"int32\")\n",
        "    acc = accuracy_score(y_train, y_pred)\n",
        "    print(name, acc)\n"
      ],
      "metadata": {
        "colab": {
          "base_uri": "https://localhost:8080/"
        },
        "outputId": "a6172f08-34d2-4771-eeba-37e056dc432b",
        "id": "516Ojmrj8xCr"
      },
      "execution_count": 61,
      "outputs": [
        {
          "output_type": "stream",
          "name": "stderr",
          "text": [
            "<ipython-input-61-15117b293180>:47: DeprecationWarning: KerasClassifier is deprecated, use Sci-Keras (https://github.com/adriangb/scikeras) instead. See https://www.adriangb.com/scikeras/stable/migration.html for help migrating.\n",
            "  ('RNN', KerasClassifier(build_fn=create_rnn, epochs=10, verbose=0)),\n",
            "<ipython-input-61-15117b293180>:48: DeprecationWarning: KerasClassifier is deprecated, use Sci-Keras (https://github.com/adriangb/scikeras) instead. See https://www.adriangb.com/scikeras/stable/migration.html for help migrating.\n",
            "  ('GRU', KerasClassifier(build_fn=create_gru, epochs=10, verbose=0)),\n",
            "<ipython-input-61-15117b293180>:49: DeprecationWarning: KerasClassifier is deprecated, use Sci-Keras (https://github.com/adriangb/scikeras) instead. See https://www.adriangb.com/scikeras/stable/migration.html for help migrating.\n",
            "  ('LSTM', KerasClassifier(build_fn=create_lstm, epochs=10, verbose=0)),\n",
            "<ipython-input-61-15117b293180>:50: DeprecationWarning: KerasClassifier is deprecated, use Sci-Keras (https://github.com/adriangb/scikeras) instead. See https://www.adriangb.com/scikeras/stable/migration.html for help migrating.\n",
            "  ('DNN', KerasClassifier(build_fn=create_dnn, epochs=10, verbose=0))\n"
          ]
        },
        {
          "output_type": "stream",
          "name": "stdout",
          "text": [
            "3/3 [==============================] - 0s 22ms/step\n",
            "RNN 0.8846153846153846\n",
            "3/3 [==============================] - 1s 34ms/step\n",
            "GRU 0.9230769230769231\n",
            "3/3 [==============================] - 2s 40ms/step\n",
            "LSTM 0.9102564102564102\n",
            "3/3 [==============================] - 0s 9ms/step\n",
            "DNN 0.8974358974358975\n"
          ]
        }
      ]
    },
    {
      "cell_type": "code",
      "source": [
        "for name, model in keras_models:\n",
        "    y_pred = (model.predict(X_test) > 0.5).astype(\"int32\")\n",
        "    acc = accuracy_score(y_test, y_pred)\n",
        "    print(name, acc)"
      ],
      "metadata": {
        "colab": {
          "base_uri": "https://localhost:8080/"
        },
        "id": "f8dU6j-SA25M",
        "outputId": "7f1ba0a3-4940-4632-f2d4-e6ea79a2742f"
      },
      "execution_count": 62,
      "outputs": [
        {
          "output_type": "stream",
          "name": "stdout",
          "text": [
            "1/1 [==============================] - 0s 77ms/step\n",
            "RNN 0.5\n",
            "1/1 [==============================] - 0s 73ms/step\n",
            "GRU 0.6\n",
            "1/1 [==============================] - 0s 80ms/step\n",
            "LSTM 0.95\n",
            "1/1 [==============================] - 0s 36ms/step\n",
            "DNN 0.6\n"
          ]
        }
      ]
    }
  ]
}